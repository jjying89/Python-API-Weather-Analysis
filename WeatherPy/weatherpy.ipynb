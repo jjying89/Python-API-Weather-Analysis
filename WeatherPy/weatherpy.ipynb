{
 "cells": [
  {
   "cell_type": "markdown",
   "metadata": {},
   "source": [
    "# WeatherPy"
   ]
  },
  {
   "cell_type": "markdown",
   "metadata": {},
   "source": [
    "## Analysis\n",
    "\n",
    "* The only strong relationship that exist is between the latitude and max temperature due to it being close to the sun. Humidity, cloudiness, and wind speed does not seem to be affected by how far a city is from the equator.\n",
    "* Cities in the northern hemisphere, however, does seem to a bit more humid. Might be due to not looking at enough cities  or other factors not present in the data.\n",
    "* Very interesting to see that there are many cities with a lot of cloudiness. Perhaps due to elevation or other data not being examined."
   ]
  },
  {
   "cell_type": "code",
   "execution_count": 1,
   "metadata": {},
   "outputs": [],
   "source": [
    "# Dependencies and Setup\n",
    "import matplotlib.pyplot as plt\n",
    "import pandas as pd\n",
    "import numpy as np\n",
    "import requests\n",
    "import time\n",
    "import scipy.stats as st\n",
    "from scipy.stats import linregress\n",
    "\n",
    "# Import API key\n",
    "from api_keys import weather_api_key\n",
    "\n",
    "# Incorporated citipy to determine city based on latitude and longitude\n",
    "from citipy import citipy\n",
    "\n",
    "# Output File (CSV)\n",
    "output_data_file = \"output_data/cities.csv\"\n",
    "\n",
    "# Range of latitudes and longitudes\n",
    "lat_range = (-90, 90)\n",
    "lng_range = (-180, 180)"
   ]
  },
  {
   "cell_type": "markdown",
   "metadata": {},
   "source": [
    "## Generate Cities List"
   ]
  },
  {
   "cell_type": "code",
   "execution_count": 2,
   "metadata": {},
   "outputs": [
    {
     "data": {
      "text/plain": [
       "598"
      ]
     },
     "execution_count": 2,
     "metadata": {},
     "output_type": "execute_result"
    }
   ],
   "source": [
    "# List for holding lat_lngs and cities\n",
    "lat_lngs = []\n",
    "cities = []\n",
    "\n",
    "# Create a set of random lat and lng combinations\n",
    "lats = np.random.uniform(lat_range[0], lat_range[1], size=1500)\n",
    "lngs = np.random.uniform(lng_range[0], lng_range[1], size=1500)\n",
    "lat_lngs = zip(lats, lngs)\n",
    "\n",
    "# Identify nearest city for each lat, lng combination\n",
    "for lat_lng in lat_lngs:\n",
    "    city = citipy.nearest_city(lat_lng[0], lat_lng[1]).city_name\n",
    "    \n",
    "    # If the city is unique, then add it to a our cities list\n",
    "    if city not in cities:\n",
    "        cities.append(city)\n",
    "\n",
    "# Print the city count to confirm sufficient count\n",
    "len(cities)"
   ]
  },
  {
   "cell_type": "markdown",
   "metadata": {},
   "source": [
    "### Perform API Calls\n",
    "* Perform a weather check on each city using a series of successive API calls.\n",
    "* Include a print log of each city as it's being processed (with the city number and city name)."
   ]
  },
  {
   "cell_type": "code",
   "execution_count": 3,
   "metadata": {
    "scrolled": false
   },
   "outputs": [
    {
     "name": "stdout",
     "output_type": "stream",
     "text": [
      "Beginning Data Retrieval\n",
      "------------------------\n",
      "Processing Record 1 | Tasiilaq\n",
      "Processing Record 2 | Qaanaaq\n",
      "City not found. Skipping...\n",
      "Processing Record 3 | Namatanai\n",
      "Processing Record 4 | Ostrovnoy\n",
      "Processing Record 5 | Yulara\n",
      "Processing Record 6 | New Norfolk\n",
      "City not found. Skipping...\n",
      "Processing Record 7 | Kaitangata\n",
      "Processing Record 8 | Atuona\n",
      "Processing Record 9 | Andenes\n",
      "Processing Record 10 | Lebu\n",
      "City not found. Skipping...\n",
      "Processing Record 11 | Yeppoon\n",
      "Processing Record 12 | Albany\n",
      "Processing Record 13 | Bluff\n",
      "Processing Record 14 | Constitución\n",
      "Processing Record 15 | Mar del Plata\n",
      "Processing Record 16 | Marabu\n",
      "Processing Record 17 | Saint-Augustin\n",
      "Processing Record 18 | Codrington\n",
      "Processing Record 19 | Punta Arenas\n",
      "Processing Record 20 | Cidreira\n",
      "Processing Record 21 | Kara\n",
      "Processing Record 22 | Ribeira Grande\n",
      "City not found. Skipping...\n",
      "Processing Record 23 | Villarrobledo\n",
      "Processing Record 24 | Rikitea\n",
      "Processing Record 25 | Vaini\n",
      "Processing Record 26 | Acapulco de Juárez\n",
      "Processing Record 27 | Arrondissement de Bourg-en-Bresse\n",
      "Processing Record 28 | Cabo San Lucas\n",
      "Processing Record 29 | Zigong\n",
      "Processing Record 30 | Port Blair\n",
      "Processing Record 31 | George Town\n",
      "Processing Record 32 | Yinchuan\n",
      "Processing Record 33 | Kapaa\n",
      "Processing Record 34 | Tuatapere\n",
      "Processing Record 35 | São João da Barra\n",
      "City not found. Skipping...\n",
      "Processing Record 36 | Busselton\n",
      "Processing Record 37 | Bairnsdale\n",
      "Processing Record 38 | Manggar\n",
      "Processing Record 39 | Saint-Philippe\n",
      "Processing Record 40 | Havelock\n",
      "Processing Record 41 | Nioro\n",
      "Processing Record 42 | Tiksi\n",
      "Processing Record 43 | Port Alfred\n",
      "Processing Record 44 | Dikson\n",
      "Processing Record 45 | Los Llanos de Aridane\n",
      "Processing Record 46 | Touros\n",
      "Processing Record 47 | Port Augusta\n",
      "Processing Record 48 | Necoclí\n",
      "Processing Record 49 | Heréd\n",
      "City not found. Skipping...\n",
      "Processing Record 50 | Nanortalik\n",
      "Processing Record 51 | Mehamn\n",
      "Processing Record 52 | Nikolskoye\n",
      "Processing Record 53 | Santa Maria\n",
      "Processing Record 54 | Ushuaia\n",
      "Processing Record 55 | Comodoro Rivadavia\n",
      "City not found. Skipping...\n",
      "Processing Record 56 | Pacific Grove\n",
      "Processing Record 57 | Kavieng\n",
      "Processing Record 58 | Taoudenni\n",
      "Processing Record 59 | Hermanus\n",
      "Processing Record 60 | Nabire\n",
      "Processing Record 61 | Festus\n",
      "Processing Record 62 | Kirkwall\n",
      "Processing Record 63 | Tiguisan\n",
      "Processing Record 64 | Hithadhoo\n",
      "Processing Record 65 | Pamanukan\n",
      "Processing Record 66 | Broken Hill\n",
      "Processing Record 67 | Nibbar\n",
      "Processing Record 68 | Ukiah\n",
      "Processing Record 69 | Geraldton\n",
      "City not found. Skipping...\n",
      "Processing Record 70 | Saldanha\n",
      "City not found. Skipping...\n",
      "City not found. Skipping...\n",
      "Processing Record 71 | Urucará\n",
      "Processing Record 72 | Chiniot\n",
      "Processing Record 73 | Cape Town\n",
      "Processing Record 74 | Half Moon Bay\n",
      "Processing Record 75 | Opuwo\n",
      "Processing Record 76 | Butaritari\n",
      "Processing Record 77 | Mataura\n",
      "Processing Record 78 | Dunedin\n",
      "Processing Record 79 | Provideniya\n",
      "City not found. Skipping...\n",
      "Processing Record 80 | Pevek\n",
      "Processing Record 81 | Tocache\n",
      "Processing Record 82 | Tessalit\n",
      "City not found. Skipping...\n",
      "Processing Record 83 | Hilo\n",
      "Processing Record 84 | Taksimo\n",
      "Processing Record 85 | Rimavská Sobota\n",
      "Processing Record 86 | Loandjili\n",
      "Processing Record 87 | Severo-Kuril'sk\n",
      "Processing Record 88 | Sibolga\n",
      "Processing Record 89 | Mossamedes\n",
      "Processing Record 90 | Carutapera\n",
      "Processing Record 91 | Biak\n",
      "Processing Record 92 | Esperance\n",
      "Processing Record 93 | Hobart\n",
      "Processing Record 94 | Meulaboh\n",
      "Processing Record 95 | Jamestown\n",
      "Processing Record 96 | Katsuura\n",
      "Processing Record 97 | Thompson\n",
      "Processing Record 98 | Loa Janan\n",
      "Processing Record 99 | Brekstad\n",
      "Processing Record 100 | North Las Vegas\n",
      "Processing Record 101 | Malindi\n",
      "Processing Record 102 | Maniitsoq\n",
      "Processing Record 103 | Alofi\n",
      "Processing Record 104 | Brae\n",
      "Processing Record 105 | Bumba\n",
      "Processing Record 106 | San Carlos\n",
      "City not found. Skipping...\n",
      "Processing Record 107 | Jalu\n",
      "Processing Record 108 | Ahipara\n",
      "Processing Record 109 | Lufilufi\n",
      "Processing Record 110 | Saint Paul Harbor\n",
      "Processing Record 111 | Port Elizabeth\n",
      "Processing Record 112 | Morros\n",
      "Processing Record 113 | San Andrés\n",
      "Processing Record 114 | Udachny\n",
      "Processing Record 115 | Ramsar\n",
      "Processing Record 116 | College\n",
      "Processing Record 117 | Lagoa\n",
      "Processing Record 118 | Aklavik\n",
      "Processing Record 119 | Visnes\n",
      "Processing Record 120 | Dongsheng\n",
      "Processing Record 121 | Zhuhai\n",
      "Processing Record 122 | Margate\n",
      "Processing Record 123 | Cururupu\n",
      "Processing Record 124 | Saint Anthony\n",
      "Processing Record 125 | Filingué\n",
      "Processing Record 126 | Avarua\n",
      "Processing Record 127 | Ancud\n",
      "Processing Record 128 | Sterling\n",
      "Processing Record 129 | Lompoc\n",
      "City not found. Skipping...\n",
      "Processing Record 130 | Vanimo\n",
      "Processing Record 131 | Arlit\n",
      "Processing Record 132 | Rājāpur\n",
      "Processing Record 133 | Hong Kong\n",
      "Processing Record 134 | Abnūb\n",
      "City not found. Skipping...\n",
      "Processing Record 135 | Agidel\n",
      "Processing Record 136 | Lavrentiya\n",
      "Processing Record 137 | Coyhaique\n",
      "Processing Record 138 | Port Hardy\n",
      "Processing Record 139 | Khatanga\n",
      "Processing Record 140 | Hasaki\n",
      "Processing Record 141 | Kruisfontein\n",
      "City not found. Skipping...\n",
      "Processing Record 142 | Saskylakh\n",
      "Processing Record 143 | Bocaiúva\n",
      "Processing Record 144 | Williams Lake\n",
      "Processing Record 145 | Oranjemund\n",
      "City not found. Skipping...\n",
      "Processing Record 146 | Iqaluit\n",
      "Processing Record 147 | Burnie\n",
      "Processing Record 148 | Chui\n",
      "Processing Record 149 | Río de Jesús\n",
      "Processing Record 150 | Puerto Ayora\n",
      "Processing Record 151 | Zhigansk\n",
      "Processing Record 152 | Bobo-Dioulasso\n",
      "Processing Record 153 | Motygino\n",
      "Processing Record 154 | Manado\n",
      "Processing Record 155 | Carnarvon\n",
      "Processing Record 156 | Chokurdakh\n",
      "Processing Record 157 | West Odessa\n",
      "Processing Record 158 | Amsterdam\n",
      "Processing Record 159 | Hay River\n",
      "Processing Record 160 | Poum\n",
      "Processing Record 161 | Bubaque\n",
      "Processing Record 162 | Weinan\n",
      "Processing Record 163 | Dauphin\n",
      "Processing Record 164 | Santiago del Estero\n",
      "Processing Record 165 | Gao\n",
      "Processing Record 166 | Stara Syniava\n",
      "Processing Record 167 | Yellowknife\n",
      "Processing Record 168 | Ixtapa\n",
      "Processing Record 169 | São José dos Pinhais\n",
      "Processing Record 170 | Ruska Poliana\n",
      "Processing Record 171 | Krasnaya Gorbatka\n",
      "Processing Record 172 | São Filipe\n",
      "Processing Record 173 | Tuktoyaktuk\n",
      "Processing Record 174 | Lambaréné\n",
      "Processing Record 175 | Walvis Bay\n",
      "Processing Record 176 | Pitimbu\n",
      "Processing Record 177 | Gondanglegi\n",
      "Processing Record 178 | Cayenne\n",
      "Processing Record 179 | Castro\n",
      "Processing Record 180 | Tura\n",
      "Processing Record 181 | Cherskiy\n",
      "Processing Record 182 | Arrondissement de Narbonne\n",
      "Processing Record 183 | Pisco\n",
      "Processing Record 184 | Hualmay\n",
      "Processing Record 185 | Cache Creek\n",
      "Processing Record 186 | Guerrero Negro\n",
      "Processing Record 187 | East London\n",
      "Processing Record 188 | Airai\n",
      "Processing Record 189 | Bengkulu\n",
      "Processing Record 190 | Flin Flon\n",
      "Processing Record 191 | Paita\n",
      "Processing Record 192 | Bud\n",
      "Processing Record 193 | Salalah\n",
      "Processing Record 194 | Bitung\n",
      "Processing Record 195 | Barrow\n",
      "Processing Record 196 | Isangel\n",
      "Processing Record 197 | Dosso\n",
      "City not found. Skipping...\n",
      "Processing Record 198 | Chicama\n",
      "City not found. Skipping...\n",
      "Processing Record 199 | Broome\n",
      "Processing Record 200 | Ntoum\n",
      "Processing Record 201 | Kalmunai\n",
      "Processing Record 202 | Eureka\n",
      "Processing Record 203 | Omboué\n",
      "Processing Record 204 | Vrangel'\n",
      "Processing Record 205 | Gualeguay\n",
      "Processing Record 206 | Vao\n",
      "Processing Record 207 | Sitka\n",
      "Processing Record 208 | Atasū\n",
      "Processing Record 209 | Tegul'det\n",
      "Processing Record 210 | Puducherry\n",
      "Processing Record 211 | Nizhniy Odes\n",
      "Processing Record 212 | Røros\n",
      "Processing Record 213 | Bethel\n",
      "Processing Record 214 | Clyde River\n",
      "Processing Record 215 | Lorengau\n",
      "Processing Record 216 | San Quintín\n",
      "Processing Record 217 | Bilibino\n",
      "Processing Record 218 | Ponta Delgada\n",
      "Processing Record 219 | Mahébourg\n",
      "Processing Record 220 | Saint George\n",
      "Processing Record 221 | Polyarny\n",
      "Processing Record 222 | Nísia Floresta\n",
      "Processing Record 223 | Lima\n",
      "Processing Record 224 | Channel-Port aux Basques\n",
      "Processing Record 225 | Kumul\n",
      "Processing Record 226 | Mana\n",
      "Processing Record 227 | Sisimiut\n",
      "Processing Record 228 | Yerköy\n",
      "Processing Record 229 | Grindavik\n"
     ]
    },
    {
     "name": "stdout",
     "output_type": "stream",
     "text": [
      "Processing Record 230 | Arraial do Cabo\n",
      "Processing Record 231 | Kyren\n",
      "Processing Record 232 | Mount Isa\n",
      "Processing Record 233 | Atlantic City\n",
      "Processing Record 234 | Nyurba\n",
      "Processing Record 235 | Itoman\n",
      "Processing Record 236 | Fortuna\n",
      "City not found. Skipping...\n",
      "Processing Record 237 | Rocha\n",
      "Processing Record 238 | Padang\n",
      "Processing Record 239 | Lata\n",
      "Processing Record 240 | Madimba\n",
      "Processing Record 241 | Puerto Colombia\n",
      "Processing Record 242 | Bredasdorp\n",
      "Processing Record 243 | Laas\n",
      "Processing Record 244 | Marzuq\n",
      "Processing Record 245 | Sinnamary\n",
      "Processing Record 246 | Dvinskoy\n",
      "Processing Record 247 | French Rocks\n",
      "Processing Record 248 | Nhulunbuy\n",
      "Processing Record 249 | Kidal\n",
      "Processing Record 250 | Bambous Virieux\n",
      "Processing Record 251 | Hamilton\n",
      "Processing Record 252 | San Patricio\n",
      "Processing Record 253 | Çubuk\n",
      "Processing Record 254 | Huilong\n",
      "Processing Record 255 | Hirtshals\n",
      "Processing Record 256 | Honningsvåg\n",
      "City not found. Skipping...\n",
      "Processing Record 257 | Khorramshahr\n",
      "Processing Record 258 | Faya\n",
      "Processing Record 259 | Ponta do Sol\n",
      "Processing Record 260 | Sayyan\n",
      "City not found. Skipping...\n",
      "Processing Record 261 | Port Moresby\n",
      "Processing Record 262 | Thinadhoo\n",
      "City not found. Skipping...\n",
      "Processing Record 263 | Galle\n",
      "Processing Record 264 | Fort Nelson\n",
      "City not found. Skipping...\n",
      "Processing Record 265 | Campagna\n",
      "Processing Record 266 | Port Lincoln\n",
      "Processing Record 267 | Jinchang\n",
      "Processing Record 268 | Kulevcha\n",
      "Processing Record 269 | Vila Franca do Campo\n",
      "Processing Record 270 | Xaltianguis\n",
      "Processing Record 271 | Atherton\n",
      "Processing Record 272 | Tanabe\n",
      "Processing Record 273 | Porto-Novo\n",
      "Processing Record 274 | Faanui\n",
      "Processing Record 275 | Safi\n",
      "Processing Record 276 | Zhangye\n",
      "Processing Record 277 | Raudeberg\n",
      "Processing Record 278 | Bac Lieu\n",
      "Processing Record 279 | Anori\n",
      "Processing Record 280 | Mati\n",
      "City not found. Skipping...\n",
      "Processing Record 281 | Nogliki\n",
      "Processing Record 282 | Laguna\n",
      "Processing Record 283 | Monte Patria\n",
      "Processing Record 284 | Fallon\n",
      "Processing Record 285 | Tadine\n",
      "Processing Record 286 | Banda Aceh\n",
      "Processing Record 287 | Piedras Negras\n",
      "City not found. Skipping...\n",
      "Processing Record 288 | Puerto Peñasco\n",
      "Processing Record 289 | Ilulissat\n",
      "City not found. Skipping...\n",
      "Processing Record 290 | Wasilla\n",
      "Processing Record 291 | Sistranda\n",
      "Processing Record 292 | Itupiranga\n",
      "Processing Record 293 | Freeport\n",
      "Processing Record 294 | Assiniboia\n",
      "Processing Record 295 | Cascais\n",
      "City not found. Skipping...\n",
      "Processing Record 296 | Middelburg\n",
      "Processing Record 297 | Huarmey\n",
      "Processing Record 298 | Lüderitz\n",
      "Processing Record 299 | Tsimmerbude\n",
      "Processing Record 300 | Avera\n",
      "Processing Record 301 | Mogadishu\n",
      "Processing Record 302 | Tautira\n",
      "Processing Record 303 | Belgrade\n",
      "Processing Record 304 | Yar-Sale\n",
      "Processing Record 305 | Lerici\n",
      "Processing Record 306 | Shima\n",
      "Processing Record 307 | Buala\n",
      "Processing Record 308 | Cherlak\n",
      "Processing Record 309 | Teahupoo\n",
      "Processing Record 310 | Evensk\n",
      "Processing Record 311 | Alyangula\n",
      "City not found. Skipping...\n",
      "Processing Record 312 | Abhā\n",
      "Processing Record 313 | Korla\n",
      "Processing Record 314 | Lazi\n",
      "Processing Record 315 | Chapais\n",
      "Processing Record 316 | Torbay\n",
      "Processing Record 317 | Pangnirtung\n",
      "Processing Record 318 | Batken\n",
      "Processing Record 319 | Kiryat Gat\n",
      "Processing Record 320 | Berezovyy\n",
      "Processing Record 321 | Ormara\n",
      "Processing Record 322 | Istanbul\n",
      "Processing Record 323 | Juneau\n",
      "Processing Record 324 | Pouébo\n",
      "City not found. Skipping...\n",
      "Processing Record 325 | Dingle\n",
      "Processing Record 326 | San Cristobal\n",
      "Processing Record 327 | Pooler\n",
      "Processing Record 328 | Makat\n",
      "Processing Record 329 | Linkou\n",
      "Processing Record 330 | Mahalapye\n",
      "Processing Record 331 | Aksarka\n",
      "Processing Record 332 | Gazli\n",
      "Processing Record 333 | Rawson\n",
      "Processing Record 334 | Norman Wells\n",
      "Processing Record 335 | Lenger\n",
      "City not found. Skipping...\n",
      "Processing Record 336 | Lafiagi\n",
      "Processing Record 337 | Swan Hill\n",
      "Processing Record 338 | Shenzhen\n",
      "Processing Record 339 | Plátanos\n",
      "Processing Record 340 | Tadotsu\n",
      "Processing Record 341 | Pio XII\n",
      "Processing Record 342 | Rognan\n",
      "Processing Record 343 | Inírida\n",
      "Processing Record 344 | Palencia\n",
      "Processing Record 345 | Soyo\n",
      "Processing Record 346 | Te Anau\n",
      "City not found. Skipping...\n",
      "City not found. Skipping...\n",
      "Processing Record 347 | Stann Creek Town\n",
      "Processing Record 348 | Kommunisticheskiy\n",
      "Processing Record 349 | Omaha\n",
      "Processing Record 350 | Peniche\n",
      "Processing Record 351 | Yangi Marg`ilon\n",
      "Processing Record 352 | São Borja\n",
      "Processing Record 353 | Vardø\n",
      "City not found. Skipping...\n",
      "Processing Record 354 | Auki\n",
      "Processing Record 355 | Koungheul\n",
      "Processing Record 356 | Vágur\n",
      "Processing Record 357 | ‘Ewa Beach\n",
      "Processing Record 358 | Naze\n",
      "City not found. Skipping...\n",
      "Processing Record 359 | Jaisalmer\n",
      "Processing Record 360 | Kiruna\n",
      "Processing Record 361 | Catuday\n",
      "Processing Record 362 | Sesimbra\n",
      "Processing Record 363 | Palana\n",
      "Processing Record 364 | Xining\n",
      "Processing Record 365 | Ko Samui\n",
      "Processing Record 366 | Pauini\n",
      "Processing Record 367 | Kitimat\n",
      "Processing Record 368 | Puerto Escondido\n",
      "Processing Record 369 | Rapid Valley\n",
      "City not found. Skipping...\n",
      "Processing Record 370 | Sechura\n",
      "Processing Record 371 | Zeya\n",
      "Processing Record 372 | Kaputa\n",
      "Processing Record 373 | Constantine\n",
      "Processing Record 374 | Province of Trapani\n",
      "Processing Record 375 | Sola\n",
      "Processing Record 376 | Bien Hoa\n",
      "Processing Record 377 | Northam\n",
      "Processing Record 378 | Wanaka\n",
      "Processing Record 379 | Seredka\n",
      "Processing Record 380 | Alcalá la Real\n",
      "Processing Record 381 | Sulangan\n",
      "Processing Record 382 | Bandarbeyla\n",
      "Processing Record 383 | Porto Murtinho\n",
      "Processing Record 384 | Pozo Colorado\n",
      "Processing Record 385 | Bathsheba\n",
      "Processing Record 386 | Waddān\n",
      "Processing Record 387 | Kosh-Agach\n",
      "Processing Record 388 | Krasnovishersk\n",
      "Processing Record 389 | Valparaíso\n",
      "Processing Record 390 | Huambo\n",
      "Processing Record 391 | Sakaraha\n",
      "Processing Record 392 | Show Low\n",
      "Processing Record 393 | Sembakung\n",
      "Processing Record 394 | Tahe\n",
      "Processing Record 395 | Iracoubo\n",
      "Processing Record 396 | Belokurikha\n",
      "Processing Record 397 | Hervey Bay\n",
      "Processing Record 398 | Puerto Baquerizo Moreno\n",
      "Processing Record 399 | Ust-Maya\n",
      "Processing Record 400 | Marsh Harbour\n",
      "Processing Record 401 | Upernavik\n",
      "Processing Record 402 | Fairbanks\n",
      "Processing Record 403 | Belaya Gora\n",
      "Processing Record 404 | Roald\n",
      "Processing Record 405 | Kirksville\n",
      "Processing Record 406 | Kirakira\n",
      "Processing Record 407 | Riyadh\n",
      "Processing Record 408 | Yaransk\n",
      "City not found. Skipping...\n",
      "Processing Record 409 | Kathu\n",
      "Processing Record 410 | Colquechaca\n",
      "Processing Record 411 | Novi Šeher\n",
      "Processing Record 412 | Kamyshlov\n",
      "Processing Record 413 | Barbate\n",
      "Processing Record 414 | Souillac\n",
      "Processing Record 415 | Santa Cruz de la Sierra\n",
      "Processing Record 416 | Cedar City\n",
      "Processing Record 417 | Khovd\n",
      "Processing Record 418 | Biltine\n",
      "Processing Record 419 | Khilok\n",
      "Processing Record 420 | Ouallam\n",
      "Processing Record 421 | High Prairie\n",
      "Processing Record 422 | Otjiwarongo\n",
      "Processing Record 423 | Leningradskiy\n",
      "Processing Record 424 | Zhangaözen\n",
      "Processing Record 425 | North Platte\n",
      "Processing Record 426 | Quang Ngai\n",
      "City not found. Skipping...\n",
      "Processing Record 427 | Sur\n",
      "Processing Record 428 | Palu\n",
      "Processing Record 429 | Parry Sound\n",
      "Processing Record 430 | Tilichiki\n",
      "Processing Record 431 | Port Shepstone\n",
      "City not found. Skipping...\n",
      "Processing Record 432 | Mosal'sk\n",
      "Processing Record 433 | Mindelo\n",
      "Processing Record 434 | Mezen'\n",
      "Processing Record 435 | Saint-François\n",
      "Processing Record 436 | Surin\n",
      "Processing Record 437 | Maningrida\n",
      "Processing Record 438 | Ushtobe\n",
      "Processing Record 439 | Solnechnyy\n",
      "Processing Record 440 | Manoel Urbano\n",
      "City not found. Skipping...\n",
      "Processing Record 441 | Shingū\n",
      "Processing Record 442 | Olafsvik\n",
      "Processing Record 443 | Njombe\n",
      "Processing Record 444 | Butterworth\n",
      "Processing Record 445 | Wanning\n",
      "Processing Record 446 | Samarai\n",
      "Processing Record 447 | Mayo\n",
      "City not found. Skipping...\n",
      "Processing Record 448 | Caldwell\n",
      "Processing Record 449 | Champerico\n",
      "Processing Record 450 | Zhezkazgan\n",
      "City not found. Skipping...\n",
      "Processing Record 451 | Shaunavon\n",
      "City not found. Skipping...\n",
      "Processing Record 452 | Cervo\n",
      "Processing Record 453 | Bowen\n",
      "Processing Record 454 | Necochea\n",
      "Processing Record 455 | Marsá Maţrūḩ\n"
     ]
    },
    {
     "name": "stdout",
     "output_type": "stream",
     "text": [
      "Processing Record 456 | Adiaké\n",
      "Processing Record 457 | Lehigh Acres\n",
      "Processing Record 458 | Nishihara\n",
      "Processing Record 459 | Hofn\n",
      "Processing Record 460 | Pechora\n",
      "Processing Record 461 | Korem\n",
      "Processing Record 462 | Kuršumlija\n",
      "Processing Record 463 | Arāria\n",
      "City not found. Skipping...\n",
      "Processing Record 464 | Skjervøy\n",
      "Processing Record 465 | Vetlanda\n",
      "Processing Record 466 | Kimbe\n",
      "Processing Record 467 | Kovdor\n",
      "Processing Record 468 | Galveston\n",
      "Processing Record 469 | San Antonio\n",
      "Processing Record 470 | Asău\n",
      "City not found. Skipping...\n",
      "Processing Record 471 | Qidong\n",
      "Processing Record 472 | Santa Ana\n",
      "Processing Record 473 | Port Hedland\n",
      "Processing Record 474 | Dawei\n",
      "Processing Record 475 | Jumla\n",
      "Processing Record 476 | Omsukchan\n",
      "Processing Record 477 | Amapá\n",
      "Processing Record 478 | Odienné\n",
      "Processing Record 479 | Patacamaya\n",
      "Processing Record 480 | Edremit\n",
      "Processing Record 481 | Luwuk\n",
      "Processing Record 482 | Conde\n",
      "Processing Record 483 | Mersin Province\n",
      "Processing Record 484 | Buraidah\n",
      "City not found. Skipping...\n",
      "Processing Record 485 | Beira\n",
      "Processing Record 486 | Carauari\n",
      "Processing Record 487 | Dārāb\n",
      "Processing Record 488 | Beloha\n",
      "Processing Record 489 | Fuxin\n",
      "Processing Record 490 | Osmanabad\n",
      "Processing Record 491 | Alekseyevsk\n",
      "Processing Record 492 | Luleå\n",
      "Processing Record 493 | Phalaborwa\n",
      "Processing Record 494 | Richards Bay\n",
      "Processing Record 495 | Vestmannaeyjar\n",
      "Processing Record 496 | Kaka\n",
      "Processing Record 497 | Berdigestyakh\n",
      "Processing Record 498 | Puerto Carreño\n",
      "Processing Record 499 | Yazman\n",
      "Processing Record 500 | Klaksvík\n",
      "Processing Record 501 | Luchenza\n",
      "Processing Record 502 | Vostok\n",
      "Processing Record 503 | Liku\n",
      "Processing Record 504 | Det Udom\n",
      "Processing Record 505 | Srandakan\n",
      "Processing Record 506 | Mwene-Ditu\n",
      "Processing Record 507 | Idrinskoye\n",
      "Processing Record 508 | Ketchikan\n",
      "Processing Record 509 | Ambilobe\n",
      "Processing Record 510 | Nālūt\n",
      "Processing Record 511 | Kemijärvi\n",
      "Processing Record 512 | Artyom\n",
      "Processing Record 513 | Atar\n",
      "Processing Record 514 | Marawi\n",
      "Processing Record 515 | Cap Malheureux\n",
      "Processing Record 516 | Coquimbo\n",
      "Processing Record 517 | Namanga\n",
      "Processing Record 518 | Tiznit Province\n",
      "Processing Record 519 | Rio Grande\n",
      "Processing Record 520 | Strathroy\n",
      "Processing Record 521 | Dzhebariki-Khaya\n",
      "Processing Record 522 | Dourbali\n",
      "Processing Record 523 | Corinth\n",
      "Processing Record 524 | Nome\n",
      "Processing Record 525 | San Juan\n",
      "Processing Record 526 | Terråk\n",
      "Processing Record 527 | Walla Walla\n",
      "Processing Record 528 | Alice Springs\n",
      "City not found. Skipping...\n",
      "Processing Record 529 | Kosonsoy\n",
      "Processing Record 530 | Zhanakorgan\n",
      "Processing Record 531 | Casselman\n",
      "Processing Record 532 | Lerik\n",
      "Processing Record 533 | Cuxhaven\n",
      "Processing Record 534 | Oberhaching\n",
      "Processing Record 535 | Ambon City\n",
      "Processing Record 536 | Yavaros\n",
      "Processing Record 537 | Esso\n",
      "Processing Record 538 | Niquero\n",
      "Processing Record 539 | Sanford\n",
      "Processing Record 540 | Watsa\n",
      "Processing Record 541 | Sondrio\n",
      "Processing Record 542 | Srednekolymsk\n",
      "Processing Record 543 | Limoncito\n",
      "Processing Record 544 | Estevan\n",
      "Processing Record 545 | Emba\n",
      "Processing Record 546 | Forsytheganj\n",
      "Processing Record 547 | Flinders\n",
      "Processing Record 548 | Ballina\n",
      "Processing Record 549 | Tapes\n",
      "Processing Record 550 | Kendari\n",
      "Processing Record 551 | Kloulklubed\n",
      "------------------------\n",
      "Data Retrieval Complete\n",
      "------------------------\n"
     ]
    }
   ],
   "source": [
    "# Save config information.\n",
    "url = \"http://api.openweathermap.org/data/2.5/weather?\"\n",
    "units = \"imperial\"\n",
    "\n",
    "# Build partial query URL\n",
    "query_url = f\"{url}&appid={weather_api_key}&units={units}&q=\"\n",
    "\n",
    "# Create lists to store info\n",
    "city_name=[]\n",
    "lat=[]\n",
    "lng=[]\n",
    "max_temp=[]\n",
    "humidity=[]\n",
    "cloudiness=[]\n",
    "wind_speed=[]\n",
    "country=[]\n",
    "date=[]\n",
    "\n",
    "record=1\n",
    "\n",
    "print(\"Beginning Data Retrieval\")\n",
    "print(\"------------------------\")\n",
    "\n",
    "for city in cities:\n",
    "    \n",
    "    try:\n",
    "        response = requests.get(query_url + city).json()\n",
    "        city_name.append(response['name'])\n",
    "        lat.append(response['coord']['lat'])\n",
    "        lng.append(response['coord']['lon'])\n",
    "        max_temp.append(response['main']['temp_max'])\n",
    "        humidity.append(response['main']['humidity'])\n",
    "        cloudiness.append(response['clouds']['all'])\n",
    "        wind_speed.append(response['wind']['speed'])\n",
    "        country.append(response['sys']['country'])\n",
    "        date.append(response['dt'])\n",
    "        print(f\"Processing Record {record} | {response['name']}\")\n",
    "        \n",
    "        record += 1\n",
    "        \n",
    "        time.sleep(1)\n",
    "        \n",
    "    except:\n",
    "        print(\"City not found. Skipping...\")\n",
    "    \n",
    "    continue\n",
    "\n",
    "    \n",
    "print(\"------------------------\")    \n",
    "print(\"Data Retrieval Complete\")\n",
    "print(\"------------------------\")"
   ]
  },
  {
   "cell_type": "markdown",
   "metadata": {},
   "source": [
    "### Convert Raw Data to DataFrame\n",
    "* Export the city data into a .csv.\n",
    "* Display the DataFrame"
   ]
  },
  {
   "cell_type": "code",
   "execution_count": 4,
   "metadata": {},
   "outputs": [
    {
     "data": {
      "text/html": [
       "<div>\n",
       "<style scoped>\n",
       "    .dataframe tbody tr th:only-of-type {\n",
       "        vertical-align: middle;\n",
       "    }\n",
       "\n",
       "    .dataframe tbody tr th {\n",
       "        vertical-align: top;\n",
       "    }\n",
       "\n",
       "    .dataframe thead th {\n",
       "        text-align: right;\n",
       "    }\n",
       "</style>\n",
       "<table border=\"1\" class=\"dataframe\">\n",
       "  <thead>\n",
       "    <tr style=\"text-align: right;\">\n",
       "      <th></th>\n",
       "      <th>City</th>\n",
       "      <th>Lat</th>\n",
       "      <th>Lng</th>\n",
       "      <th>Max Temp</th>\n",
       "      <th>Humidity</th>\n",
       "      <th>Cloudiness</th>\n",
       "      <th>Wind Speed</th>\n",
       "      <th>Country</th>\n",
       "      <th>Date</th>\n",
       "    </tr>\n",
       "  </thead>\n",
       "  <tbody>\n",
       "    <tr>\n",
       "      <th>0</th>\n",
       "      <td>Tasiilaq</td>\n",
       "      <td>65.61</td>\n",
       "      <td>-37.64</td>\n",
       "      <td>30.20</td>\n",
       "      <td>42</td>\n",
       "      <td>0</td>\n",
       "      <td>3.36</td>\n",
       "      <td>GL</td>\n",
       "      <td>1604373582</td>\n",
       "    </tr>\n",
       "    <tr>\n",
       "      <th>1</th>\n",
       "      <td>Qaanaaq</td>\n",
       "      <td>77.48</td>\n",
       "      <td>-69.36</td>\n",
       "      <td>9.45</td>\n",
       "      <td>81</td>\n",
       "      <td>100</td>\n",
       "      <td>5.32</td>\n",
       "      <td>GL</td>\n",
       "      <td>1604373583</td>\n",
       "    </tr>\n",
       "    <tr>\n",
       "      <th>2</th>\n",
       "      <td>Namatanai</td>\n",
       "      <td>-3.67</td>\n",
       "      <td>152.43</td>\n",
       "      <td>84.06</td>\n",
       "      <td>73</td>\n",
       "      <td>73</td>\n",
       "      <td>4.70</td>\n",
       "      <td>PG</td>\n",
       "      <td>1604373584</td>\n",
       "    </tr>\n",
       "    <tr>\n",
       "      <th>3</th>\n",
       "      <td>Ostrovnoy</td>\n",
       "      <td>68.05</td>\n",
       "      <td>39.51</td>\n",
       "      <td>42.21</td>\n",
       "      <td>82</td>\n",
       "      <td>100</td>\n",
       "      <td>29.71</td>\n",
       "      <td>RU</td>\n",
       "      <td>1604373331</td>\n",
       "    </tr>\n",
       "    <tr>\n",
       "      <th>4</th>\n",
       "      <td>Yulara</td>\n",
       "      <td>-25.24</td>\n",
       "      <td>130.99</td>\n",
       "      <td>96.80</td>\n",
       "      <td>12</td>\n",
       "      <td>0</td>\n",
       "      <td>12.75</td>\n",
       "      <td>AU</td>\n",
       "      <td>1604373586</td>\n",
       "    </tr>\n",
       "  </tbody>\n",
       "</table>\n",
       "</div>"
      ],
      "text/plain": [
       "        City    Lat     Lng  Max Temp  Humidity  Cloudiness  Wind Speed  \\\n",
       "0   Tasiilaq  65.61  -37.64     30.20        42           0        3.36   \n",
       "1    Qaanaaq  77.48  -69.36      9.45        81         100        5.32   \n",
       "2  Namatanai  -3.67  152.43     84.06        73          73        4.70   \n",
       "3  Ostrovnoy  68.05   39.51     42.21        82         100       29.71   \n",
       "4     Yulara -25.24  130.99     96.80        12           0       12.75   \n",
       "\n",
       "  Country        Date  \n",
       "0      GL  1604373582  \n",
       "1      GL  1604373583  \n",
       "2      PG  1604373584  \n",
       "3      RU  1604373331  \n",
       "4      AU  1604373586  "
      ]
     },
     "execution_count": 4,
     "metadata": {},
     "output_type": "execute_result"
    }
   ],
   "source": [
    "city_data = pd.DataFrame({\"City\": city_name,\n",
    "                         \"Lat\": lat,\n",
    "                         \"Lng\": lng,\n",
    "                         \"Max Temp\": max_temp,\n",
    "                         \"Humidity\": humidity,\n",
    "                         \"Cloudiness\": cloudiness,\n",
    "                         \"Wind Speed\": wind_speed,\n",
    "                         \"Country\": country, \n",
    "                         \"Date\": date})\n",
    "                         \n",
    "city_data.to_csv(\"city_data.csv\")\n",
    "\n",
    "city_data.head()"
   ]
  },
  {
   "cell_type": "markdown",
   "metadata": {},
   "source": [
    "## Inspect the data and remove the cities where the humidity > 100%.\n",
    "----\n",
    "Skip this step if there are no cities that have humidity > 100%. "
   ]
  },
  {
   "cell_type": "code",
   "execution_count": 5,
   "metadata": {},
   "outputs": [
    {
     "data": {
      "text/html": [
       "<div>\n",
       "<style scoped>\n",
       "    .dataframe tbody tr th:only-of-type {\n",
       "        vertical-align: middle;\n",
       "    }\n",
       "\n",
       "    .dataframe tbody tr th {\n",
       "        vertical-align: top;\n",
       "    }\n",
       "\n",
       "    .dataframe thead th {\n",
       "        text-align: right;\n",
       "    }\n",
       "</style>\n",
       "<table border=\"1\" class=\"dataframe\">\n",
       "  <thead>\n",
       "    <tr style=\"text-align: right;\">\n",
       "      <th></th>\n",
       "      <th>Lat</th>\n",
       "      <th>Lng</th>\n",
       "      <th>Max Temp</th>\n",
       "      <th>Humidity</th>\n",
       "      <th>Cloudiness</th>\n",
       "      <th>Wind Speed</th>\n",
       "      <th>Date</th>\n",
       "    </tr>\n",
       "  </thead>\n",
       "  <tbody>\n",
       "    <tr>\n",
       "      <th>count</th>\n",
       "      <td>551.000000</td>\n",
       "      <td>551.000000</td>\n",
       "      <td>551.000000</td>\n",
       "      <td>551.000000</td>\n",
       "      <td>551.000000</td>\n",
       "      <td>551.000000</td>\n",
       "      <td>5.510000e+02</td>\n",
       "    </tr>\n",
       "    <tr>\n",
       "      <th>mean</th>\n",
       "      <td>20.610871</td>\n",
       "      <td>17.184519</td>\n",
       "      <td>57.932377</td>\n",
       "      <td>71.471869</td>\n",
       "      <td>49.406534</td>\n",
       "      <td>8.255245</td>\n",
       "      <td>1.604374e+09</td>\n",
       "    </tr>\n",
       "    <tr>\n",
       "      <th>std</th>\n",
       "      <td>33.069102</td>\n",
       "      <td>90.884852</td>\n",
       "      <td>22.168753</td>\n",
       "      <td>20.843282</td>\n",
       "      <td>41.044077</td>\n",
       "      <td>6.312701</td>\n",
       "      <td>2.045188e+02</td>\n",
       "    </tr>\n",
       "    <tr>\n",
       "      <th>min</th>\n",
       "      <td>-54.800000</td>\n",
       "      <td>-175.200000</td>\n",
       "      <td>-13.110000</td>\n",
       "      <td>7.000000</td>\n",
       "      <td>0.000000</td>\n",
       "      <td>0.270000</td>\n",
       "      <td>1.604373e+09</td>\n",
       "    </tr>\n",
       "    <tr>\n",
       "      <th>25%</th>\n",
       "      <td>-5.825000</td>\n",
       "      <td>-63.830000</td>\n",
       "      <td>44.600000</td>\n",
       "      <td>60.000000</td>\n",
       "      <td>1.000000</td>\n",
       "      <td>3.600000</td>\n",
       "      <td>1.604374e+09</td>\n",
       "    </tr>\n",
       "    <tr>\n",
       "      <th>50%</th>\n",
       "      <td>26.330000</td>\n",
       "      <td>20.020000</td>\n",
       "      <td>60.840000</td>\n",
       "      <td>76.000000</td>\n",
       "      <td>49.000000</td>\n",
       "      <td>6.440000</td>\n",
       "      <td>1.604374e+09</td>\n",
       "    </tr>\n",
       "    <tr>\n",
       "      <th>75%</th>\n",
       "      <td>47.755000</td>\n",
       "      <td>100.355000</td>\n",
       "      <td>76.725000</td>\n",
       "      <td>88.000000</td>\n",
       "      <td>91.500000</td>\n",
       "      <td>11.295000</td>\n",
       "      <td>1.604374e+09</td>\n",
       "    </tr>\n",
       "    <tr>\n",
       "      <th>max</th>\n",
       "      <td>77.480000</td>\n",
       "      <td>178.420000</td>\n",
       "      <td>102.200000</td>\n",
       "      <td>100.000000</td>\n",
       "      <td>100.000000</td>\n",
       "      <td>38.740000</td>\n",
       "      <td>1.604374e+09</td>\n",
       "    </tr>\n",
       "  </tbody>\n",
       "</table>\n",
       "</div>"
      ],
      "text/plain": [
       "              Lat         Lng    Max Temp    Humidity  Cloudiness  Wind Speed  \\\n",
       "count  551.000000  551.000000  551.000000  551.000000  551.000000  551.000000   \n",
       "mean    20.610871   17.184519   57.932377   71.471869   49.406534    8.255245   \n",
       "std     33.069102   90.884852   22.168753   20.843282   41.044077    6.312701   \n",
       "min    -54.800000 -175.200000  -13.110000    7.000000    0.000000    0.270000   \n",
       "25%     -5.825000  -63.830000   44.600000   60.000000    1.000000    3.600000   \n",
       "50%     26.330000   20.020000   60.840000   76.000000   49.000000    6.440000   \n",
       "75%     47.755000  100.355000   76.725000   88.000000   91.500000   11.295000   \n",
       "max     77.480000  178.420000  102.200000  100.000000  100.000000   38.740000   \n",
       "\n",
       "               Date  \n",
       "count  5.510000e+02  \n",
       "mean   1.604374e+09  \n",
       "std    2.045188e+02  \n",
       "min    1.604373e+09  \n",
       "25%    1.604374e+09  \n",
       "50%    1.604374e+09  \n",
       "75%    1.604374e+09  \n",
       "max    1.604374e+09  "
      ]
     },
     "execution_count": 5,
     "metadata": {},
     "output_type": "execute_result"
    }
   ],
   "source": [
    "# Check if there are any cities with humidity > 100%\n",
    "city_data.describe()"
   ]
  },
  {
   "cell_type": "code",
   "execution_count": 6,
   "metadata": {},
   "outputs": [
    {
     "data": {
      "text/html": [
       "<div>\n",
       "<style scoped>\n",
       "    .dataframe tbody tr th:only-of-type {\n",
       "        vertical-align: middle;\n",
       "    }\n",
       "\n",
       "    .dataframe tbody tr th {\n",
       "        vertical-align: top;\n",
       "    }\n",
       "\n",
       "    .dataframe thead th {\n",
       "        text-align: right;\n",
       "    }\n",
       "</style>\n",
       "<table border=\"1\" class=\"dataframe\">\n",
       "  <thead>\n",
       "    <tr style=\"text-align: right;\">\n",
       "      <th></th>\n",
       "      <th>City</th>\n",
       "      <th>Lat</th>\n",
       "      <th>Lng</th>\n",
       "      <th>Max Temp</th>\n",
       "      <th>Humidity</th>\n",
       "      <th>Cloudiness</th>\n",
       "      <th>Wind Speed</th>\n",
       "      <th>Country</th>\n",
       "      <th>Date</th>\n",
       "    </tr>\n",
       "  </thead>\n",
       "  <tbody>\n",
       "    <tr>\n",
       "      <th>48</th>\n",
       "      <td>Heréd</td>\n",
       "      <td>47.71</td>\n",
       "      <td>19.63</td>\n",
       "      <td>52.00</td>\n",
       "      <td>100</td>\n",
       "      <td>75</td>\n",
       "      <td>1.12</td>\n",
       "      <td>HU</td>\n",
       "      <td>1604373634</td>\n",
       "    </tr>\n",
       "    <tr>\n",
       "      <th>137</th>\n",
       "      <td>Port Hardy</td>\n",
       "      <td>50.70</td>\n",
       "      <td>-127.42</td>\n",
       "      <td>48.20</td>\n",
       "      <td>100</td>\n",
       "      <td>90</td>\n",
       "      <td>18.34</td>\n",
       "      <td>CA</td>\n",
       "      <td>1604373740</td>\n",
       "    </tr>\n",
       "    <tr>\n",
       "      <th>177</th>\n",
       "      <td>Cayenne</td>\n",
       "      <td>4.93</td>\n",
       "      <td>-52.33</td>\n",
       "      <td>75.20</td>\n",
       "      <td>100</td>\n",
       "      <td>90</td>\n",
       "      <td>10.40</td>\n",
       "      <td>GF</td>\n",
       "      <td>1604373785</td>\n",
       "    </tr>\n",
       "    <tr>\n",
       "      <th>199</th>\n",
       "      <td>Ntoum</td>\n",
       "      <td>0.38</td>\n",
       "      <td>9.78</td>\n",
       "      <td>77.00</td>\n",
       "      <td>100</td>\n",
       "      <td>75</td>\n",
       "      <td>10.29</td>\n",
       "      <td>GA</td>\n",
       "      <td>1604373808</td>\n",
       "    </tr>\n",
       "    <tr>\n",
       "      <th>235</th>\n",
       "      <td>Fortuna</td>\n",
       "      <td>40.60</td>\n",
       "      <td>-124.16</td>\n",
       "      <td>48.99</td>\n",
       "      <td>100</td>\n",
       "      <td>90</td>\n",
       "      <td>4.70</td>\n",
       "      <td>US</td>\n",
       "      <td>1604373812</td>\n",
       "    </tr>\n",
       "    <tr>\n",
       "      <th>299</th>\n",
       "      <td>Avera</td>\n",
       "      <td>33.19</td>\n",
       "      <td>-82.53</td>\n",
       "      <td>42.01</td>\n",
       "      <td>100</td>\n",
       "      <td>1</td>\n",
       "      <td>2.24</td>\n",
       "      <td>US</td>\n",
       "      <td>1604373916</td>\n",
       "    </tr>\n",
       "    <tr>\n",
       "      <th>366</th>\n",
       "      <td>Kitimat</td>\n",
       "      <td>54.05</td>\n",
       "      <td>-128.65</td>\n",
       "      <td>48.20</td>\n",
       "      <td>100</td>\n",
       "      <td>75</td>\n",
       "      <td>20.80</td>\n",
       "      <td>CA</td>\n",
       "      <td>1604373989</td>\n",
       "    </tr>\n",
       "    <tr>\n",
       "      <th>410</th>\n",
       "      <td>Novi Šeher</td>\n",
       "      <td>44.51</td>\n",
       "      <td>18.03</td>\n",
       "      <td>51.80</td>\n",
       "      <td>100</td>\n",
       "      <td>0</td>\n",
       "      <td>2.24</td>\n",
       "      <td>BA</td>\n",
       "      <td>1604374036</td>\n",
       "    </tr>\n",
       "    <tr>\n",
       "      <th>429</th>\n",
       "      <td>Tilichiki</td>\n",
       "      <td>60.47</td>\n",
       "      <td>166.10</td>\n",
       "      <td>32.70</td>\n",
       "      <td>100</td>\n",
       "      <td>100</td>\n",
       "      <td>4.81</td>\n",
       "      <td>RU</td>\n",
       "      <td>1604374056</td>\n",
       "    </tr>\n",
       "    <tr>\n",
       "      <th>455</th>\n",
       "      <td>Adiaké</td>\n",
       "      <td>5.29</td>\n",
       "      <td>-3.30</td>\n",
       "      <td>75.20</td>\n",
       "      <td>100</td>\n",
       "      <td>40</td>\n",
       "      <td>3.36</td>\n",
       "      <td>CI</td>\n",
       "      <td>1604374084</td>\n",
       "    </tr>\n",
       "    <tr>\n",
       "      <th>464</th>\n",
       "      <td>Vetlanda</td>\n",
       "      <td>57.43</td>\n",
       "      <td>15.08</td>\n",
       "      <td>48.99</td>\n",
       "      <td>100</td>\n",
       "      <td>52</td>\n",
       "      <td>11.41</td>\n",
       "      <td>SE</td>\n",
       "      <td>1604374094</td>\n",
       "    </tr>\n",
       "  </tbody>\n",
       "</table>\n",
       "</div>"
      ],
      "text/plain": [
       "           City    Lat     Lng  Max Temp  Humidity  Cloudiness  Wind Speed  \\\n",
       "48        Heréd  47.71   19.63     52.00       100          75        1.12   \n",
       "137  Port Hardy  50.70 -127.42     48.20       100          90       18.34   \n",
       "177     Cayenne   4.93  -52.33     75.20       100          90       10.40   \n",
       "199       Ntoum   0.38    9.78     77.00       100          75       10.29   \n",
       "235     Fortuna  40.60 -124.16     48.99       100          90        4.70   \n",
       "299       Avera  33.19  -82.53     42.01       100           1        2.24   \n",
       "366     Kitimat  54.05 -128.65     48.20       100          75       20.80   \n",
       "410  Novi Šeher  44.51   18.03     51.80       100           0        2.24   \n",
       "429   Tilichiki  60.47  166.10     32.70       100         100        4.81   \n",
       "455      Adiaké   5.29   -3.30     75.20       100          40        3.36   \n",
       "464    Vetlanda  57.43   15.08     48.99       100          52       11.41   \n",
       "\n",
       "    Country        Date  \n",
       "48       HU  1604373634  \n",
       "137      CA  1604373740  \n",
       "177      GF  1604373785  \n",
       "199      GA  1604373808  \n",
       "235      US  1604373812  \n",
       "299      US  1604373916  \n",
       "366      CA  1604373989  \n",
       "410      BA  1604374036  \n",
       "429      RU  1604374056  \n",
       "455      CI  1604374084  \n",
       "464      SE  1604374094  "
      ]
     },
     "execution_count": 6,
     "metadata": {},
     "output_type": "execute_result"
    }
   ],
   "source": [
    "# Locate those cities in the df\n",
    "city_data.loc[city_data['Humidity'] == 100]"
   ]
  },
  {
   "cell_type": "code",
   "execution_count": 7,
   "metadata": {},
   "outputs": [
    {
     "data": {
      "text/plain": [
       "[48, 137, 177, 199, 235, 299, 366, 410, 429, 455, 464]"
      ]
     },
     "execution_count": 7,
     "metadata": {},
     "output_type": "execute_result"
    }
   ],
   "source": [
    "#  Get the indices of cities that have humidity over 100%.\n",
    "humidity100 = city_data.index[city_data['Humidity'] == 100].tolist()\n",
    "humidity100"
   ]
  },
  {
   "cell_type": "code",
   "execution_count": 8,
   "metadata": {},
   "outputs": [
    {
     "data": {
      "text/plain": [
       "540"
      ]
     },
     "execution_count": 8,
     "metadata": {},
     "output_type": "execute_result"
    }
   ],
   "source": [
    "# Make a new DataFrame equal to the city data to drop all humidity outliers by index.\n",
    "# Passing \"inplace=False\" will make a copy of the city_data DataFrame, which we call \"clean_city_data\".\n",
    "clean_city_data = city_data.drop(index=humidity100, inplace=False)\n",
    "len(clean_city_data)"
   ]
  },
  {
   "cell_type": "code",
   "execution_count": 9,
   "metadata": {},
   "outputs": [
    {
     "data": {
      "text/html": [
       "<div>\n",
       "<style scoped>\n",
       "    .dataframe tbody tr th:only-of-type {\n",
       "        vertical-align: middle;\n",
       "    }\n",
       "\n",
       "    .dataframe tbody tr th {\n",
       "        vertical-align: top;\n",
       "    }\n",
       "\n",
       "    .dataframe thead th {\n",
       "        text-align: right;\n",
       "    }\n",
       "</style>\n",
       "<table border=\"1\" class=\"dataframe\">\n",
       "  <thead>\n",
       "    <tr style=\"text-align: right;\">\n",
       "      <th></th>\n",
       "      <th>Lat</th>\n",
       "      <th>Lng</th>\n",
       "      <th>Max Temp</th>\n",
       "      <th>Humidity</th>\n",
       "      <th>Cloudiness</th>\n",
       "      <th>Wind Speed</th>\n",
       "      <th>Date</th>\n",
       "    </tr>\n",
       "  </thead>\n",
       "  <tbody>\n",
       "    <tr>\n",
       "      <th>count</th>\n",
       "      <td>540.000000</td>\n",
       "      <td>540.000000</td>\n",
       "      <td>540.000000</td>\n",
       "      <td>540.000000</td>\n",
       "      <td>540.000000</td>\n",
       "      <td>540.000000</td>\n",
       "      <td>5.400000e+02</td>\n",
       "    </tr>\n",
       "    <tr>\n",
       "      <th>mean</th>\n",
       "      <td>20.291352</td>\n",
       "      <td>18.071185</td>\n",
       "      <td>58.000833</td>\n",
       "      <td>70.890741</td>\n",
       "      <td>49.138889</td>\n",
       "      <td>8.257278</td>\n",
       "      <td>1.604374e+09</td>\n",
       "    </tr>\n",
       "    <tr>\n",
       "      <th>std</th>\n",
       "      <td>33.188190</td>\n",
       "      <td>90.791340</td>\n",
       "      <td>22.299391</td>\n",
       "      <td>20.648510</td>\n",
       "      <td>41.137639</td>\n",
       "      <td>6.311060</td>\n",
       "      <td>2.053568e+02</td>\n",
       "    </tr>\n",
       "    <tr>\n",
       "      <th>min</th>\n",
       "      <td>-54.800000</td>\n",
       "      <td>-175.200000</td>\n",
       "      <td>-13.110000</td>\n",
       "      <td>7.000000</td>\n",
       "      <td>0.000000</td>\n",
       "      <td>0.270000</td>\n",
       "      <td>1.604373e+09</td>\n",
       "    </tr>\n",
       "    <tr>\n",
       "      <th>25%</th>\n",
       "      <td>-6.460000</td>\n",
       "      <td>-63.227500</td>\n",
       "      <td>44.487500</td>\n",
       "      <td>60.000000</td>\n",
       "      <td>1.000000</td>\n",
       "      <td>3.642500</td>\n",
       "      <td>1.604374e+09</td>\n",
       "    </tr>\n",
       "    <tr>\n",
       "      <th>50%</th>\n",
       "      <td>26.135000</td>\n",
       "      <td>20.695000</td>\n",
       "      <td>61.000000</td>\n",
       "      <td>75.500000</td>\n",
       "      <td>47.000000</td>\n",
       "      <td>6.540000</td>\n",
       "      <td>1.604374e+09</td>\n",
       "    </tr>\n",
       "    <tr>\n",
       "      <th>75%</th>\n",
       "      <td>47.655000</td>\n",
       "      <td>100.780000</td>\n",
       "      <td>77.000000</td>\n",
       "      <td>87.000000</td>\n",
       "      <td>92.250000</td>\n",
       "      <td>11.237500</td>\n",
       "      <td>1.604374e+09</td>\n",
       "    </tr>\n",
       "    <tr>\n",
       "      <th>max</th>\n",
       "      <td>77.480000</td>\n",
       "      <td>178.420000</td>\n",
       "      <td>102.200000</td>\n",
       "      <td>99.000000</td>\n",
       "      <td>100.000000</td>\n",
       "      <td>38.740000</td>\n",
       "      <td>1.604374e+09</td>\n",
       "    </tr>\n",
       "  </tbody>\n",
       "</table>\n",
       "</div>"
      ],
      "text/plain": [
       "              Lat         Lng    Max Temp    Humidity  Cloudiness  Wind Speed  \\\n",
       "count  540.000000  540.000000  540.000000  540.000000  540.000000  540.000000   \n",
       "mean    20.291352   18.071185   58.000833   70.890741   49.138889    8.257278   \n",
       "std     33.188190   90.791340   22.299391   20.648510   41.137639    6.311060   \n",
       "min    -54.800000 -175.200000  -13.110000    7.000000    0.000000    0.270000   \n",
       "25%     -6.460000  -63.227500   44.487500   60.000000    1.000000    3.642500   \n",
       "50%     26.135000   20.695000   61.000000   75.500000   47.000000    6.540000   \n",
       "75%     47.655000  100.780000   77.000000   87.000000   92.250000   11.237500   \n",
       "max     77.480000  178.420000  102.200000   99.000000  100.000000   38.740000   \n",
       "\n",
       "               Date  \n",
       "count  5.400000e+02  \n",
       "mean   1.604374e+09  \n",
       "std    2.053568e+02  \n",
       "min    1.604373e+09  \n",
       "25%    1.604374e+09  \n",
       "50%    1.604374e+09  \n",
       "75%    1.604374e+09  \n",
       "max    1.604374e+09  "
      ]
     },
     "execution_count": 9,
     "metadata": {},
     "output_type": "execute_result"
    }
   ],
   "source": [
    "clean_city_data.describe()"
   ]
  },
  {
   "cell_type": "markdown",
   "metadata": {},
   "source": [
    "## Plotting the Data\n",
    "* Use proper labeling of the plots using plot titles (including date of analysis) and axes labels.\n",
    "* Save the plotted figures as .pngs."
   ]
  },
  {
   "cell_type": "markdown",
   "metadata": {},
   "source": [
    "## Latitude vs. Temperature Plot"
   ]
  },
  {
   "cell_type": "code",
   "execution_count": 10,
   "metadata": {
    "scrolled": true
   },
   "outputs": [
    {
     "data": {
      "image/png": "[encoded data removed]",
      "text/plain": [
       "<Figure size 432x288 with 1 Axes>"
      ]
     },
     "metadata": {
      "needs_background": "light"
     },
     "output_type": "display_data"
    }
   ],
   "source": [
    "# Latitude vs Temp\n",
    "plt.scatter(clean_city_data[\"Lat\"], clean_city_data[\"Max Temp\"], marker=\"o\", s=10)\n",
    "plt.title(\"City Latitude vs. Max Temperature\")\n",
    "plt.xlabel(\"Latitude\")\n",
    "plt.ylabel(\"Max Temperature (F)\")\n",
    "plt.grid(True)\n",
    "\n",
    "plt.savefig(\"Latitude_MaxTemp.png\")\n",
    "plt.show()"
   ]
  },
  {
   "cell_type": "markdown",
   "metadata": {},
   "source": [
    "### Analysis\n",
    "* Plot is showing the relationship between latitude of the cities and it's max temperature.\n",
    "* Based on the graph, max temperature is higher when the latitude is close to 0 or the equator."
   ]
  },
  {
   "cell_type": "markdown",
   "metadata": {},
   "source": [
    "## Latitude vs. Humidity Plot"
   ]
  },
  {
   "cell_type": "code",
   "execution_count": 11,
   "metadata": {
    "scrolled": true
   },
   "outputs": [
    {
     "data": {
      "image/png": "[encoded data removed]",
      "text/plain": [
       "<Figure size 432x288 with 1 Axes>"
      ]
     },
     "metadata": {
      "needs_background": "light"
     },
     "output_type": "display_data"
    }
   ],
   "source": [
    "# Latitude vs Humidity\n",
    "plt.scatter(clean_city_data[\"Lat\"], clean_city_data[\"Humidity\"], marker=\"o\", s=10)\n",
    "plt.title(\"City Latitude vs. Humidity\")\n",
    "plt.xlabel(\"Latitude\")\n",
    "plt.ylabel(\"Humidity (%)\")\n",
    "plt.grid(True)\n",
    "\n",
    "plt.savefig(\"Latitude_Humidity.png\")\n",
    "plt.show()"
   ]
  },
  {
   "cell_type": "markdown",
   "metadata": {},
   "source": [
    "### Analysis\n",
    "* Plot is showing the relationship between latitude of the cities and it's humidity.\n",
    "* Based on the graph, a very weak relationship may exist (higher humidity at latitudes above 40?)."
   ]
  },
  {
   "cell_type": "markdown",
   "metadata": {},
   "source": [
    "## Latitude vs. Cloudiness Plot"
   ]
  },
  {
   "cell_type": "code",
   "execution_count": 12,
   "metadata": {
    "scrolled": true
   },
   "outputs": [
    {
     "data": {
      "image/png": "[encoded data removed]",
      "text/plain": [
       "<Figure size 432x288 with 1 Axes>"
      ]
     },
     "metadata": {
      "needs_background": "light"
     },
     "output_type": "display_data"
    }
   ],
   "source": [
    "# Latitude vs Cloudiness\n",
    "plt.scatter(clean_city_data[\"Lat\"], clean_city_data[\"Cloudiness\"], marker=\"o\", s=10)\n",
    "plt.title(\"City Latitude vs. Cloudiness\")\n",
    "plt.xlabel(\"Latitude\")\n",
    "plt.ylabel(\"Cloudiness (%)\")\n",
    "plt.grid(True)\n",
    "\n",
    "plt.savefig(\"Latitude_Cloudiness.png\")\n",
    "plt.show()"
   ]
  },
  {
   "cell_type": "markdown",
   "metadata": {},
   "source": [
    "### Analysis\n",
    "* Plot is showing the relationship between latitude of the cities and it's cloudiness.\n",
    "* Based on the graph, the dots are all over the place showing no relationship whatsoever."
   ]
  },
  {
   "cell_type": "markdown",
   "metadata": {},
   "source": [
    "## Latitude vs. Wind Speed Plot"
   ]
  },
  {
   "cell_type": "code",
   "execution_count": 13,
   "metadata": {
    "scrolled": false
   },
   "outputs": [
    {
     "data": {
      "image/png": "[encoded data removed]",
      "text/plain": [
       "<Figure size 432x288 with 1 Axes>"
      ]
     },
     "metadata": {
      "needs_background": "light"
     },
     "output_type": "display_data"
    }
   ],
   "source": [
    "# Latitude vs Cloudiness\n",
    "plt.scatter(clean_city_data[\"Lat\"], clean_city_data[\"Wind Speed\"], marker=\"o\", s=10)\n",
    "plt.title(\"City Latitude vs. Wind Speed\")\n",
    "plt.xlabel(\"Latitude\")\n",
    "plt.ylabel(\"Wind Speed (mph)\")\n",
    "plt.grid(True)\n",
    "\n",
    "plt.savefig(\"Latitude_WindSpeed.png\")\n",
    "plt.show()"
   ]
  },
  {
   "cell_type": "markdown",
   "metadata": {},
   "source": [
    "### Analysis\n",
    "* Plot is showing the relationship between latitude of the cities and it's wind speed.\n",
    "* Based on the graph, not much of a relationship exists between the two variables."
   ]
  },
  {
   "cell_type": "markdown",
   "metadata": {},
   "source": [
    "## Linear Regression"
   ]
  },
  {
   "cell_type": "code",
   "execution_count": 14,
   "metadata": {},
   "outputs": [],
   "source": [
    "# Separate df by hemisphere\n",
    "north_city_data = clean_city_data.loc[clean_city_data['Lat'] >= 0]\n",
    "south_city_data = clean_city_data.loc[clean_city_data['Lat'] < 0]"
   ]
  },
  {
   "cell_type": "markdown",
   "metadata": {},
   "source": [
    "####  Northern Hemisphere - Max Temp vs. Latitude Linear Regression"
   ]
  },
  {
   "cell_type": "code",
   "execution_count": 15,
   "metadata": {},
   "outputs": [
    {
     "name": "stdout",
     "output_type": "stream",
     "text": [
      "LinregressResult(slope=-0.9986357227567763, intercept=90.68798179048909, rvalue=-0.8647211197405394, pvalue=1.6598213546675525e-111, stderr=0.030318829672525402)\n"
     ]
    },
    {
     "data": {
      "image/png": "[encoded data removed]",
      "text/plain": [
       "<Figure size 432x288 with 1 Axes>"
      ]
     },
     "metadata": {
      "needs_background": "light"
     },
     "output_type": "display_data"
    }
   ],
   "source": [
    "# Northern Hemisphere - Max Temp vs. Latitude Linear Regression\n",
    "x_values = north_city_data[\"Lat\"]\n",
    "y_values = north_city_data[\"Max Temp\"]\n",
    "(slope, intercept, rvalue, pvalue, stderr) = linregress(x_values, y_values)\n",
    "regress_values = x_values * slope + intercept\n",
    "line_eq = \"y = \" + str(round(slope,2)) + \"x + \" + str(round(intercept,2))\n",
    "plt.scatter(x_values,y_values, marker=\"o\", s=10)\n",
    "plt.plot(x_values,regress_values,\"r-\")\n",
    "plt.annotate(line_eq,(6,10),fontsize=15,color=\"red\")\n",
    "plt.title('Northern Hemisphere - Max Temp vs. Latitude Linear Regression')\n",
    "plt.xlabel('Latitude')\n",
    "plt.ylabel('Max Temp')\n",
    "\n",
    "print(linregress(x_values, y_values))\n",
    "\n",
    "plt.savefig(\"N_MaxTemp_Latitude.png\")\n",
    "plt.show()"
   ]
  },
  {
   "cell_type": "markdown",
   "metadata": {},
   "source": [
    "####  Southern Hemisphere - Max Temp vs. Latitude Linear Regression"
   ]
  },
  {
   "cell_type": "code",
   "execution_count": 16,
   "metadata": {},
   "outputs": [
    {
     "name": "stdout",
     "output_type": "stream",
     "text": [
      "LinregressResult(slope=0.39012110028328817, intercept=79.87789689090233, rvalue=0.4450799245778697, pvalue=9.51368222078963e-10, stderr=0.06020022661941161)\n"
     ]
    },
    {
     "data": {
      "image/png": "[encoded data removed]",
      "text/plain": [
       "<Figure size 432x288 with 1 Axes>"
      ]
     },
     "metadata": {
      "needs_background": "light"
     },
     "output_type": "display_data"
    }
   ],
   "source": [
    "# Southern Hemisphere - Max Temp vs. Latitude Linear Regression\n",
    "x_values = south_city_data[\"Lat\"]\n",
    "y_values = south_city_data[\"Max Temp\"]\n",
    "(slope, intercept, rvalue, pvalue, stderr) = linregress(x_values, y_values)\n",
    "regress_values = x_values * slope + intercept\n",
    "line_eq = \"y = \" + str(round(slope,2)) + \"x + \" + str(round(intercept,2))\n",
    "plt.scatter(x_values,y_values, marker=\"o\", s=10)\n",
    "plt.plot(x_values,regress_values,\"r-\")\n",
    "plt.annotate(line_eq,(6,10),fontsize=15,color=\"red\")\n",
    "plt.title('Southern Hemisphere - Max Temp vs. Latitude Linear Regression')\n",
    "plt.xlabel('Latitude')\n",
    "plt.ylabel('Max Temp')\n",
    "\n",
    "print(linregress(x_values, y_values))\n",
    "\n",
    "plt.savefig(\"S_MaxTemp_Latitude.png\")\n",
    "plt.show()"
   ]
  },
  {
   "cell_type": "markdown",
   "metadata": {},
   "source": [
    "### Analysis\n",
    "* There is a strong relationship with both showing a high rvalue between the latitude and max temperature of a city."
   ]
  },
  {
   "cell_type": "markdown",
   "metadata": {},
   "source": [
    "####  Northern Hemisphere - Humidity (%) vs. Latitude Linear Regression"
   ]
  },
  {
   "cell_type": "code",
   "execution_count": 17,
   "metadata": {},
   "outputs": [
    {
     "name": "stdout",
     "output_type": "stream",
     "text": [
      "LinregressResult(slope=0.3406751998219832, intercept=57.68347638446794, rvalue=0.3261568498343931, pvalue=1.4394600859832393e-10, stderr=0.05161195716715468)\n"
     ]
    },
    {
     "data": {
      "image/png": "[encoded data removed]",
      "text/plain": [
       "<Figure size 432x288 with 1 Axes>"
      ]
     },
     "metadata": {
      "needs_background": "light"
     },
     "output_type": "display_data"
    }
   ],
   "source": [
    "# Northern Hemisphere - Humidity (%) vs. Latitude Linear Regression\n",
    "x_values = north_city_data[\"Lat\"]\n",
    "y_values = north_city_data[\"Humidity\"]\n",
    "(slope, intercept, rvalue, pvalue, stderr) = linregress(x_values, y_values)\n",
    "regress_values = x_values * slope + intercept\n",
    "line_eq = \"y = \" + str(round(slope,2)) + \"x + \" + str(round(intercept,2))\n",
    "plt.scatter(x_values,y_values, marker=\"o\", s=10)\n",
    "plt.plot(x_values,regress_values,\"r-\")\n",
    "plt.annotate(line_eq,(6,10),fontsize=15,color=\"red\")\n",
    "plt.title('Northern Hemisphere - Humidity (%) vs. Latitude Linear Regression')\n",
    "plt.xlabel('Latitude')\n",
    "plt.ylabel('Humidity')\n",
    "\n",
    "print(linregress(x_values, y_values))\n",
    "\n",
    "plt.savefig(\"N_Humidity_Latitude.png\")\n",
    "plt.show()"
   ]
  },
  {
   "cell_type": "markdown",
   "metadata": {},
   "source": [
    "####  Southern Hemisphere - Humidity (%) vs. Latitude Linear Regression"
   ]
  },
  {
   "cell_type": "code",
   "execution_count": 18,
   "metadata": {
    "scrolled": true
   },
   "outputs": [
    {
     "name": "stdout",
     "output_type": "stream",
     "text": [
      "LinregressResult(slope=0.310356335371537, intercept=76.82977251878171, rvalue=0.20930975646709987, pvalue=0.005857625188425412, stderr=0.11120354968610068)\n"
     ]
    },
    {
     "data": {
      "image/png": "[encoded data removed]",
      "text/plain": [
       "<Figure size 432x288 with 1 Axes>"
      ]
     },
     "metadata": {
      "needs_background": "light"
     },
     "output_type": "display_data"
    }
   ],
   "source": [
    "# Southern Hemisphere - Humidity (%) vs. Latitude Linear Regression\n",
    "x_values = south_city_data[\"Lat\"]\n",
    "y_values = south_city_data[\"Humidity\"]\n",
    "(slope, intercept, rvalue, pvalue, stderr) = linregress(x_values, y_values)\n",
    "regress_values = x_values * slope + intercept\n",
    "line_eq = \"y = \" + str(round(slope,2)) + \"x + \" + str(round(intercept,2))\n",
    "plt.scatter(x_values,y_values, marker=\"o\", s=10)\n",
    "plt.plot(x_values,regress_values,\"r-\")\n",
    "plt.annotate(line_eq,(6,10),fontsize=15,color=\"red\")\n",
    "plt.title('Southern Hemisphere - Humidity (%) vs. Latitude Linear Regression')\n",
    "plt.xlabel('Latitude')\n",
    "plt.ylabel('Humidity')\n",
    "\n",
    "print(linregress(x_values, y_values))\n",
    "\n",
    "plt.savefig(\"S_Humidity_Latitude.png\")\n",
    "plt.show()"
   ]
  },
  {
   "cell_type": "markdown",
   "metadata": {},
   "source": [
    "### Analysis\n",
    "* Weak to no relationship between the latitude and humidity of a city."
   ]
  },
  {
   "cell_type": "markdown",
   "metadata": {},
   "source": [
    "####  Northern Hemisphere - Cloudiness (%) vs. Latitude Linear Regression"
   ]
  },
  {
   "cell_type": "code",
   "execution_count": 19,
   "metadata": {},
   "outputs": [
    {
     "name": "stdout",
     "output_type": "stream",
     "text": [
      "LinregressResult(slope=0.46378399715634877, intercept=31.61874159274037, rvalue=0.22131983875521063, pvalue=1.8318812773801844e-05, stderr=0.10681915357634847)\n"
     ]
    },
    {
     "data": {
      "image/png": "[encoded data removed]",
      "text/plain": [
       "<Figure size 432x288 with 1 Axes>"
      ]
     },
     "metadata": {
      "needs_background": "light"
     },
     "output_type": "display_data"
    }
   ],
   "source": [
    "# Northern Hemisphere - Cloudiness (%) vs. Latitude Linear Regression\n",
    "x_values = north_city_data[\"Lat\"]\n",
    "y_values = north_city_data[\"Cloudiness\"]\n",
    "(slope, intercept, rvalue, pvalue, stderr) = linregress(x_values, y_values)\n",
    "regress_values = x_values * slope + intercept\n",
    "line_eq = \"y = \" + str(round(slope,2)) + \"x + \" + str(round(intercept,2))\n",
    "plt.scatter(x_values,y_values, marker=\"o\", s=10)\n",
    "plt.plot(x_values,regress_values,\"r-\")\n",
    "plt.annotate(line_eq,(6,10),fontsize=15,color=\"red\")\n",
    "plt.title('Northern Hemisphere - Cloudiness (%) vs. Latitude Linear Regression')\n",
    "plt.xlabel('Latitude')\n",
    "plt.ylabel('Cloudiness')\n",
    "\n",
    "print(linregress(x_values, y_values))\n",
    "\n",
    "plt.savefig(\"N_Cloudiness_Latitude.png\")\n",
    "plt.show()"
   ]
  },
  {
   "cell_type": "markdown",
   "metadata": {},
   "source": [
    "####  Southern Hemisphere - Cloudiness (%) vs. Latitude Linear Regression"
   ]
  },
  {
   "cell_type": "code",
   "execution_count": 20,
   "metadata": {
    "scrolled": true
   },
   "outputs": [
    {
     "name": "stdout",
     "output_type": "stream",
     "text": [
      "LinregressResult(slope=1.147899466263091, intercept=70.96688505968277, rvalue=0.39513188899165064, pvalue=8.129588901495229e-08, stderr=0.2046799441610674)\n"
     ]
    },
    {
     "data": {
      "image/png": "[encoded data removed]",
      "text/plain": [
       "<Figure size 432x288 with 1 Axes>"
      ]
     },
     "metadata": {
      "needs_background": "light"
     },
     "output_type": "display_data"
    }
   ],
   "source": [
    "# Southern Hemisphere - Cloudiness (%) vs. Latitude Linear Regression\n",
    "x_values = south_city_data[\"Lat\"]\n",
    "y_values = south_city_data[\"Cloudiness\"]\n",
    "(slope, intercept, rvalue, pvalue, stderr) = linregress(x_values, y_values)\n",
    "regress_values = x_values * slope + intercept\n",
    "line_eq = \"y = \" + str(round(slope,2)) + \"x + \" + str(round(intercept,2))\n",
    "plt.scatter(x_values,y_values, marker=\"o\", s=10)\n",
    "plt.plot(x_values,regress_values,\"r-\")\n",
    "plt.annotate(line_eq,(6,10),fontsize=15,color=\"red\")\n",
    "plt.title('Southern Hemisphere - Cloudiness (%) vs. Latitude Linear Regression')\n",
    "plt.xlabel('Latitude')\n",
    "plt.ylabel('Cloudiness')\n",
    "\n",
    "print(linregress(x_values, y_values))\n",
    "\n",
    "plt.savefig(\"S_Cloudiness_Latitude.png\")\n",
    "plt.show()"
   ]
  },
  {
   "cell_type": "markdown",
   "metadata": {},
   "source": [
    "### Analysis\n",
    "* Weak relationship for cities in the nothern hemisphere, which could have other attributing factors.\n",
    "* No relationship for cities in the southern hemisphere."
   ]
  },
  {
   "cell_type": "markdown",
   "metadata": {},
   "source": [
    "####  Northern Hemisphere - Wind Speed (mph) vs. Latitude Linear Regression"
   ]
  },
  {
   "cell_type": "code",
   "execution_count": 21,
   "metadata": {},
   "outputs": [
    {
     "name": "stdout",
     "output_type": "stream",
     "text": [
      "LinregressResult(slope=0.0751622061203857, intercept=5.649638594965717, rvalue=0.22009600933070073, pvalue=2.0427805374885298e-05, stderr=0.017412630427728806)\n"
     ]
    },
    {
     "data": {
      "image/png": "[encoded data removed]",
      "text/plain": [
       "<Figure size 432x288 with 1 Axes>"
      ]
     },
     "metadata": {
      "needs_background": "light"
     },
     "output_type": "display_data"
    }
   ],
   "source": [
    "# Northern Hemisphere - Wind Speed (mph) vs. Latitude Linear Regression\n",
    "x_values = north_city_data[\"Lat\"]\n",
    "y_values = north_city_data[\"Wind Speed\"]\n",
    "(slope, intercept, rvalue, pvalue, stderr) = linregress(x_values, y_values)\n",
    "regress_values = x_values * slope + intercept\n",
    "line_eq = \"y = \" + str(round(slope,2)) + \"x + \" + str(round(intercept,2))\n",
    "plt.scatter(x_values,y_values, marker=\"o\", s=10)\n",
    "plt.plot(x_values,regress_values,\"r-\")\n",
    "plt.annotate(line_eq,(6,10),fontsize=15,color=\"red\")\n",
    "plt.title('Northern Hemisphere - Wind Speed (mph) vs. Latitude Linear Regression')\n",
    "plt.xlabel('Latitude')\n",
    "plt.ylabel('Wind Speed')\n",
    "\n",
    "print(linregress(x_values, y_values))\n",
    "\n",
    "plt.savefig(\"N_WindSpeed_Latitude.png\")\n",
    "plt.show()"
   ]
  },
  {
   "cell_type": "markdown",
   "metadata": {},
   "source": [
    "####  Southern Hemisphere - Wind Speed (mph) vs. Latitude Linear Regression"
   ]
  },
  {
   "cell_type": "code",
   "execution_count": 22,
   "metadata": {
    "scrolled": true
   },
   "outputs": [
    {
     "name": "stdout",
     "output_type": "stream",
     "text": [
      "LinregressResult(slope=-0.10078357144598662, intercept=5.476208594247774, rvalue=-0.2742131359875051, pvalue=0.0002725603062270297, stderr=0.027108320952592538)\n"
     ]
    },
    {
     "data": {
      "image/png": "[encoded data removed]",
      "text/plain": [
       "<Figure size 432x288 with 1 Axes>"
      ]
     },
     "metadata": {
      "needs_background": "light"
     },
     "output_type": "display_data"
    }
   ],
   "source": [
    "# Southern Hemisphere - Wind Speed (mph) vs. Latitude Linear Regression\n",
    "x_values = south_city_data[\"Lat\"]\n",
    "y_values = south_city_data[\"Wind Speed\"]\n",
    "(slope, intercept, rvalue, pvalue, stderr) = linregress(x_values, y_values)\n",
    "regress_values = x_values * slope + intercept\n",
    "line_eq = \"y = \" + str(round(slope,2)) + \"x + \" + str(round(intercept,2))\n",
    "plt.scatter(x_values,y_values, marker=\"o\", s=10)\n",
    "plt.plot(x_values,regress_values,\"r-\")\n",
    "plt.annotate(line_eq,(6,10),fontsize=15,color=\"red\")\n",
    "plt.title('Southern Hemisphere - Wind Speed (mph) vs. Latitude Linear Regression')\n",
    "plt.xlabel('Latitude')\n",
    "plt.ylabel('Wind Speed')\n",
    "\n",
    "print(linregress(x_values, y_values))\n",
    "\n",
    "plt.savefig(\"S_WindSpeed_Latitude.png\")\n",
    "plt.show()"
   ]
  },
  {
   "cell_type": "markdown",
   "metadata": {},
   "source": [
    "### Analysis\n",
    "* Based on the plot, latitude does not affect the wind speed of a city."
   ]
  },
  {
   "cell_type": "code",
   "execution_count": null,
   "metadata": {},
   "outputs": [],
   "source": []
  }
 ],
 "metadata": {
  "kernelspec": {
   "display_name": "Python 3",
   "language": "python",
   "name": "python3"
  },
  "language_info": {
   "codemirror_mode": {
    "name": "ipython",
    "version": 3
   },
   "file_extension": ".py",
   "mimetype": "text/x-python",
   "name": "python",
   "nbconvert_exporter": "python",
   "pygments_lexer": "ipython3",
   "version": "3.8.3"
  }
 },
 "nbformat": 4,
 "nbformat_minor": 4
}
