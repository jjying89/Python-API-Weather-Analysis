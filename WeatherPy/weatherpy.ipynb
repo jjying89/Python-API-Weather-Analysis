{
 "cells": [
  {
   "cell_type": "markdown",
   "metadata": {},
   "source": [
    "# WeatherPy"
   ]
  },
  {
   "cell_type": "markdown",
   "metadata": {},
   "source": [
    "## Analysis\n",
    "\n",
    "* The only strong relationship that exist is between the latitude and max temperature due to it being close to the sun. Humidity, cloudiness, and wind speed does not seem to be affected by how far a city is from the equator.\n",
    "* Cities in the northern hemisphere, however, does seem to a bit more humid. Might be due to not looking at enough cities  or other factors not present in the data.\n",
    "* Very interesting to see that there are many cities with a lot of cloudiness. Perhaps due to elevation or other data not being examined."
   ]
  },
  {
   "cell_type": "code",
   "execution_count": 123,
   "metadata": {},
   "outputs": [],
   "source": [
    "# Dependencies and Setup\n",
    "import matplotlib.pyplot as plt\n",
    "import pandas as pd\n",
    "import numpy as np\n",
    "import requests\n",
    "import time\n",
    "import scipy.stats as st\n",
    "from scipy.stats import linregress\n",
    "\n",
    "# Import API key\n",
    "from api_keys import weather_api_key\n",
    "\n",
    "# Incorporated citipy to determine city based on latitude and longitude\n",
    "from citipy import citipy\n",
    "\n",
    "# Output File (CSV)\n",
    "output_data_file = \"output_data/cities.csv\"\n",
    "\n",
    "# Range of latitudes and longitudes\n",
    "lat_range = (-90, 90)\n",
    "lng_range = (-180, 180)"
   ]
  },
  {
   "cell_type": "markdown",
   "metadata": {},
   "source": [
    "## Generate Cities List"
   ]
  },
  {
   "cell_type": "code",
   "execution_count": 57,
   "metadata": {},
   "outputs": [
    {
     "data": {
      "text/plain": [
       "592"
      ]
     },
     "execution_count": 57,
     "metadata": {},
     "output_type": "execute_result"
    }
   ],
   "source": [
    "# List for holding lat_lngs and cities\n",
    "lat_lngs = []\n",
    "cities = []\n",
    "\n",
    "# Create a set of random lat and lng combinations\n",
    "lats = np.random.uniform(lat_range[0], lat_range[1], size=1500)\n",
    "lngs = np.random.uniform(lng_range[0], lng_range[1], size=1500)\n",
    "lat_lngs = zip(lats, lngs)\n",
    "\n",
    "# Identify nearest city for each lat, lng combination\n",
    "for lat_lng in lat_lngs:\n",
    "    city = citipy.nearest_city(lat_lng[0], lat_lng[1]).city_name\n",
    "    \n",
    "    # If the city is unique, then add it to a our cities list\n",
    "    if city not in cities:\n",
    "        cities.append(city)\n",
    "\n",
    "# Print the city count to confirm sufficient count\n",
    "len(cities)"
   ]
  },
  {
   "cell_type": "markdown",
   "metadata": {},
   "source": [
    "### Perform API Calls\n",
    "* Perform a weather check on each city using a series of successive API calls.\n",
    "* Include a print log of each city as it's being processed (with the city number and city name)."
   ]
  },
  {
   "cell_type": "code",
   "execution_count": 59,
   "metadata": {
    "scrolled": false
   },
   "outputs": [
    {
     "name": "stdout",
     "output_type": "stream",
     "text": [
      "Beginning Data Retrieval\n",
      "------------------------\n",
      "Processing Record 1 | Khatanga\n",
      "Processing Record 2 | Port Elizabeth\n",
      "City not found. Skipping...\n",
      "Processing Record 3 | Cape Town\n",
      "Processing Record 4 | Marawi\n",
      "Processing Record 5 | Punta Arenas\n",
      "Processing Record 6 | Douentza\n",
      "Processing Record 7 | Kieta\n",
      "Processing Record 8 | Meulaboh\n",
      "Processing Record 9 | Kyle\n",
      "City not found. Skipping...\n",
      "Processing Record 10 | Noumea\n",
      "Processing Record 11 | Ushuaia\n",
      "Processing Record 12 | Nantucket\n",
      "Processing Record 13 | Rikitea\n",
      "Processing Record 14 | Vestmannaeyjar\n",
      "Processing Record 15 | San Ignacio\n",
      "Processing Record 16 | Port Alfred\n",
      "Processing Record 17 | Oktyabr'skoye\n",
      "Processing Record 18 | Lavrentiya\n",
      "Processing Record 19 | Ribeira Grande\n",
      "Processing Record 20 | Bejucal\n",
      "Processing Record 21 | Barrow\n",
      "Processing Record 22 | Saint Paul Harbor\n",
      "Processing Record 23 | Sørland\n",
      "Processing Record 24 | Longyearbyen\n",
      "Processing Record 25 | Hobyo\n",
      "Processing Record 26 | Atuona\n",
      "Processing Record 27 | Gondanglegi\n",
      "Processing Record 28 | Avarua\n",
      "City not found. Skipping...\n",
      "Processing Record 29 | Dikson\n",
      "Processing Record 30 | Conde\n",
      "Processing Record 31 | Vaini\n",
      "Processing Record 32 | New Norfolk\n",
      "Processing Record 33 | Klyuchi\n",
      "Processing Record 34 | Cidreira\n",
      "Processing Record 35 | Jamestown\n",
      "City not found. Skipping...\n",
      "Processing Record 36 | Kidal\n",
      "Processing Record 37 | Itoman\n",
      "Processing Record 38 | Koslan\n",
      "Processing Record 39 | Hobart\n",
      "Processing Record 40 | Severo-Kuril'sk\n",
      "Processing Record 41 | George Town\n",
      "City not found. Skipping...\n",
      "Processing Record 42 | Qaanaaq\n",
      "Processing Record 43 | Ahipara\n",
      "Processing Record 44 | Bredasdorp\n",
      "Processing Record 45 | Sitka\n",
      "Processing Record 46 | Souillac\n",
      "Processing Record 47 | Namatanai\n",
      "Processing Record 48 | Mataura\n",
      "Processing Record 49 | Nikolskoye\n",
      "Processing Record 50 | Santa Cruz de la Sierra\n",
      "Processing Record 51 | Humberto de Campos\n",
      "Processing Record 52 | Yellowknife\n",
      "Processing Record 53 | Laguna\n",
      "Processing Record 54 | Constitución\n",
      "Processing Record 55 | San Patricio\n",
      "Processing Record 56 | Opuwo\n",
      "Processing Record 57 | Provideniya\n",
      "Processing Record 58 | Amapá\n",
      "Processing Record 59 | Pevek\n",
      "Processing Record 60 | Mudanjiang\n",
      "City not found. Skipping...\n",
      "Processing Record 61 | Ambilobe\n",
      "Processing Record 62 | Saskylakh\n",
      "Processing Record 63 | Majene\n",
      "Processing Record 64 | Mumbai\n",
      "Processing Record 65 | Anantnag\n",
      "Processing Record 66 | Eureka\n",
      "Processing Record 67 | Robeasca\n",
      "Processing Record 68 | Brus Laguna\n",
      "Processing Record 69 | East London\n",
      "Processing Record 70 | San Francisco de Macorís\n",
      "Processing Record 71 | Yaan\n",
      "City not found. Skipping...\n",
      "Processing Record 72 | Grindavik\n",
      "Processing Record 73 | Belyy Yar\n",
      "City not found. Skipping...\n",
      "Processing Record 74 | Tiksi\n",
      "Processing Record 75 | Airai\n",
      "Processing Record 76 | Sault Ste. Marie\n",
      "Processing Record 77 | Itaituba\n",
      "Processing Record 78 | Iqaluit\n",
      "Processing Record 79 | Novopavlovka\n",
      "Processing Record 80 | Coahuayana Viejo\n",
      "Processing Record 81 | Kapaa\n",
      "Processing Record 82 | Hilo\n",
      "Processing Record 83 | Geraldton\n",
      "Processing Record 84 | Norman Wells\n",
      "Processing Record 85 | Tasiilaq\n",
      "Processing Record 86 | Busselton\n",
      "Processing Record 87 | Aklavik\n",
      "Processing Record 88 | Mar del Plata\n",
      "City not found. Skipping...\n",
      "Processing Record 89 | Albany\n",
      "Processing Record 90 | Tenkodogo\n",
      "Processing Record 91 | Vaitape\n",
      "Processing Record 92 | Port Hardy\n",
      "Processing Record 93 | Namie\n",
      "Processing Record 94 | Māngrol\n",
      "Processing Record 95 | Arlit\n",
      "Processing Record 96 | Esperance\n",
      "Processing Record 97 | Berja\n",
      "Processing Record 98 | Moroni\n",
      "City not found. Skipping...\n",
      "Processing Record 99 | Sulangan\n",
      "Processing Record 100 | Bluff\n",
      "Processing Record 101 | Cabo San Lucas\n",
      "Processing Record 102 | Saldanha\n",
      "City not found. Skipping...\n",
      "Processing Record 103 | Bethanien\n",
      "Processing Record 104 | Hermanus\n",
      "Processing Record 105 | Malanje\n",
      "Processing Record 106 | Husavik\n",
      "Processing Record 107 | Hong Kong\n",
      "Processing Record 108 | Sittwe\n",
      "Processing Record 109 | Tuktoyaktuk\n",
      "Processing Record 110 | Chokurdakh\n",
      "Processing Record 111 | Florianópolis\n",
      "Processing Record 112 | Coyhaique\n",
      "Processing Record 113 | Camacha\n",
      "Processing Record 114 | Leningradskiy\n",
      "Processing Record 115 | Santa Maria da Boa Vista\n",
      "City not found. Skipping...\n",
      "Processing Record 116 | Maceió\n",
      "Processing Record 117 | Ponta do Sol\n",
      "Processing Record 118 | Champasak\n",
      "Processing Record 119 | Lebu\n",
      "Processing Record 120 | Landerneau\n",
      "Processing Record 121 | Pangnirtung\n",
      "Processing Record 122 | Half Moon Bay\n",
      "Processing Record 123 | Bagdarin\n",
      "City not found. Skipping...\n",
      "Processing Record 124 | Troy\n",
      "Processing Record 125 | Kavieng\n",
      "Processing Record 126 | Butaritari\n",
      "Processing Record 127 | Saint-François\n",
      "Processing Record 128 | Nadvoitsy\n",
      "Processing Record 129 | Bulawayo\n",
      "Processing Record 130 | North Bend\n",
      "City not found. Skipping...\n",
      "Processing Record 131 | Olafsvik\n",
      "Processing Record 132 | Guerrero Negro\n",
      "Processing Record 133 | Havelock\n",
      "Processing Record 134 | Saint-Philippe\n",
      "Processing Record 135 | Roald\n",
      "Processing Record 136 | Kaitangata\n",
      "Processing Record 137 | Rome\n",
      "Processing Record 138 | Hay River\n",
      "Processing Record 139 | Taywarah\n",
      "Processing Record 140 | Touros\n",
      "Processing Record 141 | Praia da Vitória\n",
      "Processing Record 142 | Kahului\n",
      "Processing Record 143 | Dunedin\n",
      "Processing Record 144 | Ismailia\n",
      "Processing Record 145 | Srednekolymsk\n",
      "Processing Record 146 | Hithadhoo\n",
      "Processing Record 147 | Roebourne\n",
      "Processing Record 148 | Rapid Valley\n",
      "Processing Record 149 | Berlevåg\n",
      "Processing Record 150 | Bitung\n",
      "Processing Record 151 | Dolinsk\n",
      "Processing Record 152 | North Platte\n",
      "Processing Record 153 | Ariquemes\n",
      "Processing Record 154 | Jalu\n",
      "Processing Record 155 | Beringovskiy\n",
      "Processing Record 156 | Upernavik\n",
      "Processing Record 157 | Tateyama\n",
      "Processing Record 158 | Kipini\n",
      "Processing Record 159 | Pedro II\n",
      "Processing Record 160 | Lompoc\n",
      "Processing Record 161 | Arraial do Cabo\n",
      "Processing Record 162 | Borogontsy\n",
      "Processing Record 163 | Novoagansk\n",
      "Processing Record 164 | Naze\n",
      "Processing Record 165 | Krasnosel'kup\n",
      "Processing Record 166 | Bethel\n",
      "Processing Record 167 | Mount Gambier\n",
      "Processing Record 168 | Elko\n",
      "Processing Record 169 | Zavyalovo\n",
      "Processing Record 170 | Santa Marta\n",
      "Processing Record 171 | Terrasini\n",
      "Processing Record 172 | Alofi\n",
      "Processing Record 173 | Nelson Bay\n",
      "Processing Record 174 | Banjar\n",
      "Processing Record 175 | Port-Cartier\n",
      "Processing Record 176 | Chipinge\n",
      "City not found. Skipping...\n",
      "Processing Record 177 | Padang\n",
      "City not found. Skipping...\n",
      "Processing Record 178 | Carnarvon\n",
      "Processing Record 179 | Ishikari\n",
      "Processing Record 180 | Tsumeb\n",
      "City not found. Skipping...\n",
      "Processing Record 181 | Puerto Ayora\n",
      "Processing Record 182 | Znamenskoye\n",
      "Processing Record 183 | Kérouané\n",
      "Processing Record 184 | Sinnamary\n",
      "City not found. Skipping...\n",
      "Processing Record 185 | Maţāy\n",
      "Processing Record 186 | Shimoda\n",
      "Processing Record 187 | Bathsheba\n",
      "Processing Record 188 | Lindi\n",
      "Processing Record 189 | Yangi Marg`ilon\n",
      "Processing Record 190 | Lata\n",
      "Processing Record 191 | Mahébourg\n",
      "Processing Record 192 | Antalaha\n",
      "Processing Record 193 | Emba\n",
      "Processing Record 194 | Nsanje\n",
      "City not found. Skipping...\n",
      "Processing Record 195 | Osa\n",
      "Processing Record 196 | Loukhi\n",
      "Processing Record 197 | Palmer\n",
      "Processing Record 198 | Moyale\n",
      "Processing Record 199 | Razdol'noye\n",
      "Processing Record 200 | Río Gallegos\n",
      "Processing Record 201 | Sakaiminato\n",
      "Processing Record 202 | Léogâne\n",
      "City not found. Skipping...\n",
      "Processing Record 203 | Nikel\n",
      "Processing Record 204 | Castro\n",
      "Processing Record 205 | Chenghai\n",
      "City not found. Skipping...\n",
      "Processing Record 206 | Acapulco de Juárez\n",
      "Processing Record 207 | Sioux Lookout\n",
      "Processing Record 208 | Tazovsky\n",
      "Processing Record 209 | Bontang\n",
      "Processing Record 210 | Mbini\n",
      "Processing Record 211 | Cayenne\n",
      "Processing Record 212 | Bengkulu\n",
      "Processing Record 213 | Qaqortoq\n",
      "City not found. Skipping...\n",
      "Processing Record 214 | Sur\n",
      "Processing Record 215 | Brownfield\n",
      "Processing Record 216 | Ostrovnoy\n",
      "Processing Record 217 | Harper\n",
      "Processing Record 218 | Ancud\n",
      "City not found. Skipping...\n",
      "Processing Record 219 | Alekseyevsk\n",
      "Processing Record 220 | Havre-St-Pierre\n",
      "Processing Record 221 | Los Llanos de Aridane\n",
      "Processing Record 222 | George\n",
      "Processing Record 223 | Assiniboia\n",
      "Processing Record 224 | Kavaratti\n",
      "Processing Record 225 | Vila Franca do Campo\n"
     ]
    },
    {
     "name": "stdout",
     "output_type": "stream",
     "text": [
      "Processing Record 226 | Abu Samrah\n",
      "Processing Record 227 | Salalah\n",
      "Processing Record 228 | Zhigansk\n",
      "Processing Record 229 | Berbera\n",
      "Processing Record 230 | Along\n",
      "City not found. Skipping...\n",
      "Processing Record 231 | Asău\n",
      "City not found. Skipping...\n",
      "Processing Record 232 | Buenos Aires\n",
      "Processing Record 233 | Morón\n",
      "Processing Record 234 | Porbandar\n",
      "Processing Record 235 | Tallahassee\n",
      "City not found. Skipping...\n",
      "Processing Record 236 | Solnechnyy\n",
      "Processing Record 237 | Karatuzskoye\n",
      "Processing Record 238 | Mukhen\n",
      "Processing Record 239 | Merauke\n",
      "Processing Record 240 | Enid\n",
      "City not found. Skipping...\n",
      "Processing Record 241 | Selfoss\n",
      "Processing Record 242 | São Filipe\n",
      "Processing Record 243 | Esim\n",
      "Processing Record 244 | Yarim\n",
      "Processing Record 245 | Ust'-Tarka\n",
      "Processing Record 246 | Kedrovyy\n",
      "Processing Record 247 | Pisco\n",
      "Processing Record 248 | Mandalgovi\n",
      "Processing Record 249 | Auki\n",
      "City not found. Skipping...\n",
      "Processing Record 250 | Chittūr\n",
      "Processing Record 251 | Faanui\n",
      "Processing Record 252 | Margate\n",
      "Processing Record 253 | Hambantota\n",
      "Processing Record 254 | Rio Claro\n",
      "Processing Record 255 | Sola\n",
      "Processing Record 256 | Bilibino\n",
      "Processing Record 257 | Fortuna\n",
      "Processing Record 258 | Lüderitz\n",
      "Processing Record 259 | Umluj\n",
      "Processing Record 260 | Kodinsk\n",
      "Processing Record 261 | Lages\n",
      "Processing Record 262 | Kelso\n",
      "Processing Record 263 | Monrovia\n",
      "Processing Record 264 | Verkhoyansk\n",
      "Processing Record 265 | Dingle\n",
      "Processing Record 266 | Mayumba\n",
      "Processing Record 267 | Plettenberg Bay\n",
      "Processing Record 268 | Fort-Shevchenko\n",
      "Processing Record 269 | Nizhniy Kuranakh\n",
      "Processing Record 270 | Kościan\n",
      "Processing Record 271 | Hofn\n",
      "Processing Record 272 | Karpathos\n",
      "Processing Record 273 | Baiyin\n",
      "Processing Record 274 | Salé\n",
      "Processing Record 275 | São João da Barra\n",
      "Processing Record 276 | Hidas\n",
      "Processing Record 277 | Ankara\n",
      "Processing Record 278 | Jinchang\n",
      "Processing Record 279 | Knysna\n",
      "Processing Record 280 | Belmonte\n",
      "Processing Record 281 | Løgstør\n",
      "Processing Record 282 | Mil'kovo\n",
      "Processing Record 283 | Hasaki\n",
      "Processing Record 284 | Forsytheganj\n",
      "Processing Record 285 | Marsá Maţrūḩ\n",
      "Processing Record 286 | Kugul'ta\n",
      "Processing Record 287 | Russell\n",
      "Processing Record 288 | Shache\n",
      "Processing Record 289 | Podosinovets\n",
      "Processing Record 290 | Yurino\n",
      "Processing Record 291 | Torbay\n",
      "Processing Record 292 | Cherskiy\n",
      "Processing Record 293 | Sambava\n",
      "Processing Record 294 | Hearst\n",
      "Processing Record 295 | Barra de Tecoanapa\n",
      "Processing Record 296 | Fairbanks\n",
      "Processing Record 297 | Pitimbu\n",
      "Processing Record 298 | Mednogorskiy\n",
      "City not found. Skipping...\n",
      "Processing Record 299 | Raja\n",
      "Processing Record 300 | Bac Lieu\n",
      "Processing Record 301 | Bada\n",
      "Processing Record 302 | São Félix do Xingu\n",
      "Processing Record 303 | Diamantino\n",
      "Processing Record 304 | Thompson\n",
      "Processing Record 305 | Omboué\n",
      "Processing Record 306 | Begichevskiy\n",
      "City not found. Skipping...\n",
      "Processing Record 307 | Bilma\n",
      "Processing Record 308 | Badian\n",
      "Processing Record 309 | Lubango\n",
      "Processing Record 310 | Kysyl-Syr\n",
      "Processing Record 311 | Talnakh\n",
      "Processing Record 312 | Nago\n",
      "Processing Record 313 | Portland\n",
      "Processing Record 314 | Samaná\n",
      "Processing Record 315 | College\n",
      "Processing Record 316 | Acajutla\n",
      "City not found. Skipping...\n",
      "Processing Record 317 | Paracuru\n",
      "Processing Record 318 | Igarka\n",
      "Processing Record 319 | Novy Urengoy\n",
      "Processing Record 320 | Truro\n",
      "Processing Record 321 | Bekhtery\n",
      "Processing Record 322 | Chui\n",
      "Processing Record 323 | Baltoji Vokė\n",
      "Processing Record 324 | Port Macquarie\n",
      "Processing Record 325 | Maniitsoq\n",
      "Processing Record 326 | Hājan\n",
      "Processing Record 327 | Olinda\n",
      "Processing Record 328 | Great Yarmouth\n",
      "Processing Record 329 | Sokoni\n",
      "Processing Record 330 | San Miguel de Cozumel\n",
      "Processing Record 331 | Erenhot\n",
      "Processing Record 332 | Laurel\n",
      "City not found. Skipping...\n",
      "Processing Record 333 | Celestún\n",
      "Processing Record 334 | Catuday\n",
      "Processing Record 335 | Bonanza\n",
      "Processing Record 336 | Lakes Entrance\n",
      "Processing Record 337 | Glencoe\n",
      "Processing Record 338 | Steamboat Springs\n",
      "Processing Record 339 | Atambua\n",
      "Processing Record 340 | Nakusp\n",
      "Processing Record 341 | Vanimo\n",
      "Processing Record 342 | Tsivil'sk\n",
      "Processing Record 343 | Sivas Province\n",
      "Processing Record 344 | Banjarmasin\n",
      "Processing Record 345 | Deputatsky\n",
      "Processing Record 346 | Nabire\n",
      "City not found. Skipping...\n",
      "City not found. Skipping...\n",
      "Processing Record 347 | Bambous Virieux\n",
      "Processing Record 348 | Grand Island\n",
      "Processing Record 349 | Rosario\n",
      "Processing Record 350 | Orlik\n",
      "Processing Record 351 | Santa Maria\n",
      "Processing Record 352 | Vilhena\n",
      "Processing Record 353 | Ljungby\n",
      "Processing Record 354 | Eyl\n",
      "Processing Record 355 | Ghanzi\n",
      "Processing Record 356 | Muroto-misakicho\n",
      "Processing Record 357 | Pareora\n",
      "City not found. Skipping...\n",
      "Processing Record 358 | Nome\n",
      "Processing Record 359 | Chara\n",
      "Processing Record 360 | Hīt\n",
      "Processing Record 361 | Ngara\n",
      "Processing Record 362 | Egvekinot\n",
      "Processing Record 363 | Novouzensk\n",
      "Processing Record 364 | Turukhansk\n",
      "Processing Record 365 | Sabzawār\n",
      "Processing Record 366 | Shelburne\n",
      "Processing Record 367 | Pacific Grove\n",
      "Processing Record 368 | Morayfield\n",
      "Processing Record 369 | Mirabela\n",
      "Processing Record 370 | Vágur\n",
      "Processing Record 371 | Kuril'sk\n",
      "Processing Record 372 | Chapais\n",
      "Processing Record 373 | Klaksvík\n",
      "City not found. Skipping...\n",
      "Processing Record 374 | Muros\n",
      "Processing Record 375 | Bubaque\n",
      "Processing Record 376 | Broome\n",
      "Processing Record 377 | Adrasmon\n",
      "Processing Record 378 | Bandar-e Lengeh\n",
      "Processing Record 379 | Tautira\n",
      "Processing Record 380 | Kawambwa\n",
      "Processing Record 381 | Khovd\n",
      "Processing Record 382 | Malaya Vishera\n",
      "Processing Record 383 | Elizabeth City\n",
      "Processing Record 384 | Toronto\n",
      "City not found. Skipping...\n",
      "Processing Record 385 | Mkushi\n",
      "Processing Record 386 | Okhotsk\n",
      "Processing Record 387 | Casa Grande\n",
      "Processing Record 388 | Khovu-Aksy\n",
      "Processing Record 389 | Pangody\n",
      "Processing Record 390 | Phek\n",
      "Processing Record 391 | Deep River\n",
      "Processing Record 392 | Atar\n",
      "Processing Record 393 | Richards Bay\n",
      "Processing Record 394 | Batemans Bay\n",
      "Processing Record 395 | Ilulissat\n",
      "Processing Record 396 | Rawson\n",
      "Processing Record 397 | Lorengau\n",
      "Processing Record 398 | Kristianstad\n",
      "Processing Record 399 | Bafra\n",
      "Processing Record 400 | Henties Bay\n",
      "Processing Record 401 | Narsaq\n",
      "Processing Record 402 | Griffith\n",
      "Processing Record 403 | Makakilo City\n",
      "Processing Record 404 | Shingū\n",
      "Processing Record 405 | Belgrade\n",
      "City not found. Skipping...\n",
      "Processing Record 406 | Matthews\n",
      "Processing Record 407 | Glasgow\n",
      "Processing Record 408 | Nouakchott\n",
      "Processing Record 409 | Cap Malheureux\n",
      "Processing Record 410 | Poum\n",
      "Processing Record 411 | Felipe Carrillo Puerto\n",
      "Processing Record 412 | Collie\n",
      "Processing Record 413 | Benghazi\n",
      "Processing Record 414 | Faya\n",
      "Processing Record 415 | Hualmay\n",
      "Processing Record 416 | Lucea\n",
      "Processing Record 417 | San Quintín\n",
      "Processing Record 418 | Diamantina\n",
      "Processing Record 419 | Botngård\n",
      "Processing Record 420 | Dwārka\n",
      "Processing Record 421 | Kristinestad\n",
      "Processing Record 422 | Paamiut\n",
      "Processing Record 423 | Karratha\n",
      "Processing Record 424 | Valparaíso\n",
      "Processing Record 425 | Nioro\n",
      "Processing Record 426 | Kenai\n",
      "Processing Record 427 | Buraidah\n",
      "Processing Record 428 | La Libertad\n",
      "Processing Record 429 | Tilichiki\n",
      "Processing Record 430 | Kruisfontein\n",
      "Processing Record 431 | Mut\n",
      "City not found. Skipping...\n",
      "Processing Record 432 | Sabang\n",
      "Processing Record 433 | Bermejo\n",
      "Processing Record 434 | Blăjel\n",
      "Processing Record 435 | Leh\n",
      "Processing Record 436 | Saint-Augustin\n",
      "Processing Record 437 | Codrington\n",
      "City not found. Skipping...\n",
      "Processing Record 438 | Tevriz\n",
      "Processing Record 439 | Rathdrum\n",
      "Processing Record 440 | Chinhoyi\n",
      "Processing Record 441 | Borazjan\n",
      "Processing Record 442 | Kissidougou\n",
      "Processing Record 443 | Brae\n",
      "Processing Record 444 | Toora-Khem\n",
      "Processing Record 445 | Skibotn\n",
      "Processing Record 446 | Cam Ranh\n",
      "Processing Record 447 | Ventimiglia\n",
      "Processing Record 448 | Kirillov\n",
      "Processing Record 449 | Nānākuli\n",
      "Processing Record 450 | Saint George\n",
      "Processing Record 451 | Poso\n",
      "Processing Record 452 | Hanzhong\n",
      "Processing Record 453 | Twin Falls\n",
      "Processing Record 454 | Coquimbo\n",
      "Processing Record 455 | Cap-aux-Meules\n",
      "Processing Record 456 | Jacareacanga\n",
      "Processing Record 457 | Beidao\n"
     ]
    },
    {
     "name": "stdout",
     "output_type": "stream",
     "text": [
      "Processing Record 458 | Kathmandu\n",
      "Processing Record 459 | Ibrā’\n",
      "Processing Record 460 | Laas\n",
      "Processing Record 461 | Baculin\n",
      "Processing Record 462 | Ngunguru\n",
      "Processing Record 463 | Pauini\n",
      "Processing Record 464 | Staryy Nadym\n",
      "City not found. Skipping...\n",
      "Processing Record 465 | Kurisove\n",
      "Processing Record 466 | Vanavara\n",
      "Processing Record 467 | Nikolayevsk-on-Amur\n",
      "Processing Record 468 | Grand Gaube\n",
      "Processing Record 469 | Nanortalik\n",
      "Processing Record 470 | Bulgan\n",
      "Processing Record 471 | Bridlington\n",
      "Processing Record 472 | Kolomak\n",
      "Processing Record 473 | Abu Dhabi\n",
      "Processing Record 474 | Aksu\n",
      "Processing Record 475 | Buala\n",
      "Processing Record 476 | Steinbach am Taunus\n",
      "Processing Record 477 | Vila Velha\n",
      "Processing Record 478 | Evensk\n",
      "Processing Record 479 | San Policarpo\n",
      "Processing Record 480 | Gelemso\n",
      "Processing Record 481 | Tshikapa\n",
      "Processing Record 482 | Rafsanjān\n",
      "Processing Record 483 | Katobu\n",
      "Processing Record 484 | Pierre\n",
      "Processing Record 485 | Lesogorskiy\n",
      "Processing Record 486 | Hilton Head\n",
      "Processing Record 487 | Nishihara\n",
      "Processing Record 488 | Omsukchan\n",
      "Processing Record 489 | Parabel'\n",
      "City not found. Skipping...\n",
      "Processing Record 490 | Sedro-Woolley\n",
      "Processing Record 491 | Hirara\n",
      "Processing Record 492 | Havøysund\n",
      "Processing Record 493 | Mokhotlong\n",
      "City not found. Skipping...\n",
      "Processing Record 494 | Buxar\n",
      "Processing Record 495 | Serafimovich\n",
      "Processing Record 496 | Turochak\n",
      "City not found. Skipping...\n",
      "Processing Record 497 | Mayo\n",
      "Processing Record 498 | Ouadda\n",
      "City not found. Skipping...\n",
      "Processing Record 499 | Sivaki\n",
      "Processing Record 500 | Tabuk\n",
      "Processing Record 501 | Oak Ridge\n",
      "Processing Record 502 | Hastings\n",
      "Processing Record 503 | Beloha\n",
      "Processing Record 504 | Myingyan\n",
      "Processing Record 505 | Horsham\n",
      "Processing Record 506 | Soure\n",
      "Processing Record 507 | Tegul'det\n",
      "Processing Record 508 | Belaya Gora\n",
      "Processing Record 509 | Launceston\n",
      "Processing Record 510 | Pallipattu\n",
      "Processing Record 511 | Sorrento\n",
      "Processing Record 512 | Promyshlennaya\n",
      "Processing Record 513 | Tuatapere\n",
      "Processing Record 514 | Zhangjiakou\n",
      "City not found. Skipping...\n",
      "Processing Record 515 | Kemin\n",
      "Processing Record 516 | City of San Pedro\n",
      "Processing Record 517 | Xucheng\n",
      "Processing Record 518 | Senno\n",
      "Processing Record 519 | Cody\n",
      "Processing Record 520 | Macas\n",
      "Processing Record 521 | Cuamba\n",
      "Processing Record 522 | Saint-Pierre\n",
      "Processing Record 523 | Bordei Verde\n",
      "Processing Record 524 | Churapcha\n",
      "Processing Record 525 | Bandarbeyla\n",
      "Processing Record 526 | Kasongo-Lunda\n",
      "Processing Record 527 | Vestmanna\n",
      "Processing Record 528 | Umaria\n",
      "Processing Record 529 | Agüimes\n",
      "Processing Record 530 | Sisimiut\n",
      "Processing Record 531 | Kralendijk\n",
      "Processing Record 532 | Peniche\n",
      "Processing Record 533 | San Cristobal\n",
      "Processing Record 534 | Baley\n",
      "Processing Record 535 | Aswān\n",
      "Processing Record 536 | Djibouti\n",
      "Processing Record 537 | Pinehurst\n",
      "Processing Record 538 | Norsup\n",
      "Processing Record 539 | Boende\n",
      "Processing Record 540 | Sassandra\n",
      "Processing Record 541 | Tambura\n",
      "Processing Record 542 | Huarmey\n",
      "Processing Record 543 | Biak\n",
      "Processing Record 544 | Yulara\n",
      "Processing Record 545 | Aykhal\n",
      "Processing Record 546 | Erzin\n",
      "------------------------\n",
      "Data Retrieval Complete\n",
      "------------------------\n"
     ]
    }
   ],
   "source": [
    "# Save config information.\n",
    "url = \"http://api.openweathermap.org/data/2.5/weather?\"\n",
    "units = \"imperial\"\n",
    "\n",
    "# Build partial query URL\n",
    "query_url = f\"{url}&appid={weather_api_key}&units={units}&q=\"\n",
    "\n",
    "# Create lists to store info\n",
    "city_name=[]\n",
    "lat=[]\n",
    "lng=[]\n",
    "max_temp=[]\n",
    "humidity=[]\n",
    "cloudiness=[]\n",
    "wind_speed=[]\n",
    "country=[]\n",
    "date=[]\n",
    "\n",
    "record=1\n",
    "\n",
    "print(\"Beginning Data Retrieval\")\n",
    "print(\"------------------------\")\n",
    "\n",
    "for city in cities:\n",
    "    \n",
    "    try:\n",
    "        response = requests.get(query_url + city).json()\n",
    "        city_name.append(response['name'])\n",
    "        lat.append(response['coord']['lat'])\n",
    "        lng.append(response['coord']['lon'])\n",
    "        max_temp.append(response['main']['temp_max'])\n",
    "        humidity.append(response['main']['humidity'])\n",
    "        cloudiness.append(response['clouds']['all'])\n",
    "        wind_speed.append(response['wind']['speed'])\n",
    "        country.append(response['sys']['country'])\n",
    "        date.append(response['dt'])\n",
    "        print(f\"Processing Record {record} | {response['name']}\")\n",
    "        \n",
    "        record += 1\n",
    "        \n",
    "        time.sleep(1)\n",
    "        \n",
    "    except:\n",
    "        print(\"City not found. Skipping...\")\n",
    "    \n",
    "    continue\n",
    "\n",
    "    \n",
    "print(\"------------------------\")    \n",
    "print(\"Data Retrieval Complete\")\n",
    "print(\"------------------------\")"
   ]
  },
  {
   "cell_type": "markdown",
   "metadata": {},
   "source": [
    "### Convert Raw Data to DataFrame\n",
    "* Export the city data into a .csv.\n",
    "* Display the DataFrame"
   ]
  },
  {
   "cell_type": "code",
   "execution_count": 2,
   "metadata": {},
   "outputs": [
    {
     "ename": "NameError",
     "evalue": "name 'pd' is not defined",
     "output_type": "error",
     "traceback": [
      "\u001b[1;31m---------------------------------------------------------------------------\u001b[0m",
      "\u001b[1;31mNameError\u001b[0m                                 Traceback (most recent call last)",
      "\u001b[1;32m<ipython-input-2-09f8b71c7597>\u001b[0m in \u001b[0;36m<module>\u001b[1;34m\u001b[0m\n\u001b[1;32m----> 1\u001b[1;33m city_data = pd.DataFrame({\"City\": city_name,\n\u001b[0m\u001b[0;32m      2\u001b[0m                          \u001b[1;34m\"Lat\"\u001b[0m\u001b[1;33m:\u001b[0m \u001b[0mlat\u001b[0m\u001b[1;33m,\u001b[0m\u001b[1;33m\u001b[0m\u001b[1;33m\u001b[0m\u001b[0m\n\u001b[0;32m      3\u001b[0m                          \u001b[1;34m\"Lng\"\u001b[0m\u001b[1;33m:\u001b[0m \u001b[0mlng\u001b[0m\u001b[1;33m,\u001b[0m\u001b[1;33m\u001b[0m\u001b[1;33m\u001b[0m\u001b[0m\n\u001b[0;32m      4\u001b[0m                          \u001b[1;34m\"Max Temp\"\u001b[0m\u001b[1;33m:\u001b[0m \u001b[0mmax_temp\u001b[0m\u001b[1;33m,\u001b[0m\u001b[1;33m\u001b[0m\u001b[1;33m\u001b[0m\u001b[0m\n\u001b[0;32m      5\u001b[0m                          \u001b[1;34m\"Humidity\"\u001b[0m\u001b[1;33m:\u001b[0m \u001b[0mhumidity\u001b[0m\u001b[1;33m,\u001b[0m\u001b[1;33m\u001b[0m\u001b[1;33m\u001b[0m\u001b[0m\n",
      "\u001b[1;31mNameError\u001b[0m: name 'pd' is not defined"
     ]
    }
   ],
   "source": [
    "city_data = pd.DataFrame({\"City\": city_name,\n",
    "                         \"Lat\": lat,\n",
    "                         \"Lng\": lng,\n",
    "                         \"Max Temp\": max_temp,\n",
    "                         \"Humidity\": humidity,\n",
    "                         \"Cloudiness\": cloudiness,\n",
    "                         \"Wind Speed\": wind_speed,\n",
    "                         \"Country\": country, \n",
    "                         \"Date\": date})\n",
    "                         \n",
    "city_data.to_csv(\"city_data.csv\")\n",
    "\n",
    "city_data.head()"
   ]
  },
  {
   "cell_type": "markdown",
   "metadata": {},
   "source": [
    "## Inspect the data and remove the cities where the humidity > 100%.\n",
    "----\n",
    "Skip this step if there are no cities that have humidity > 100%. "
   ]
  },
  {
   "cell_type": "code",
   "execution_count": 3,
   "metadata": {},
   "outputs": [
    {
     "ename": "NameError",
     "evalue": "name 'city_data' is not defined",
     "output_type": "error",
     "traceback": [
      "\u001b[1;31m---------------------------------------------------------------------------\u001b[0m",
      "\u001b[1;31mNameError\u001b[0m                                 Traceback (most recent call last)",
      "\u001b[1;32m<ipython-input-3-293a6ae93766>\u001b[0m in \u001b[0;36m<module>\u001b[1;34m\u001b[0m\n\u001b[0;32m      1\u001b[0m \u001b[1;31m# Check if there are any cities with humidity > 100%\u001b[0m\u001b[1;33m\u001b[0m\u001b[1;33m\u001b[0m\u001b[1;33m\u001b[0m\u001b[0m\n\u001b[1;32m----> 2\u001b[1;33m \u001b[0mcity_data\u001b[0m\u001b[1;33m.\u001b[0m\u001b[0mdescribe\u001b[0m\u001b[1;33m(\u001b[0m\u001b[1;33m)\u001b[0m\u001b[1;33m\u001b[0m\u001b[1;33m\u001b[0m\u001b[0m\n\u001b[0m",
      "\u001b[1;31mNameError\u001b[0m: name 'city_data' is not defined"
     ]
    }
   ],
   "source": [
    "# Check if there are any cities with humidity > 100%\n",
    "city_data.describe()"
   ]
  },
  {
   "cell_type": "code",
   "execution_count": 87,
   "metadata": {},
   "outputs": [
    {
     "data": {
      "text/html": [
       "<div>\n",
       "<style scoped>\n",
       "    .dataframe tbody tr th:only-of-type {\n",
       "        vertical-align: middle;\n",
       "    }\n",
       "\n",
       "    .dataframe tbody tr th {\n",
       "        vertical-align: top;\n",
       "    }\n",
       "\n",
       "    .dataframe thead th {\n",
       "        text-align: right;\n",
       "    }\n",
       "</style>\n",
       "<table border=\"1\" class=\"dataframe\">\n",
       "  <thead>\n",
       "    <tr style=\"text-align: right;\">\n",
       "      <th></th>\n",
       "      <th>City</th>\n",
       "      <th>Lat</th>\n",
       "      <th>Lng</th>\n",
       "      <th>Max Temp</th>\n",
       "      <th>Humidity</th>\n",
       "      <th>Cloudiness</th>\n",
       "      <th>Wind Speed</th>\n",
       "      <th>Country</th>\n",
       "      <th>Date</th>\n",
       "    </tr>\n",
       "  </thead>\n",
       "  <tbody>\n",
       "    <tr>\n",
       "      <th>8</th>\n",
       "      <td>Kyle</td>\n",
       "      <td>30.00</td>\n",
       "      <td>-97.87</td>\n",
       "      <td>75.99</td>\n",
       "      <td>100</td>\n",
       "      <td>90</td>\n",
       "      <td>8.05</td>\n",
       "      <td>US</td>\n",
       "      <td>1603119240</td>\n",
       "    </tr>\n",
       "    <tr>\n",
       "      <th>10</th>\n",
       "      <td>Ushuaia</td>\n",
       "      <td>-54.80</td>\n",
       "      <td>-68.30</td>\n",
       "      <td>35.60</td>\n",
       "      <td>100</td>\n",
       "      <td>90</td>\n",
       "      <td>36.91</td>\n",
       "      <td>AR</td>\n",
       "      <td>1603119068</td>\n",
       "    </tr>\n",
       "    <tr>\n",
       "      <th>19</th>\n",
       "      <td>Bejucal</td>\n",
       "      <td>22.93</td>\n",
       "      <td>-82.39</td>\n",
       "      <td>77.00</td>\n",
       "      <td>100</td>\n",
       "      <td>75</td>\n",
       "      <td>4.70</td>\n",
       "      <td>CU</td>\n",
       "      <td>1603118802</td>\n",
       "    </tr>\n",
       "    <tr>\n",
       "      <th>34</th>\n",
       "      <td>Jamestown</td>\n",
       "      <td>42.10</td>\n",
       "      <td>-79.24</td>\n",
       "      <td>50.00</td>\n",
       "      <td>100</td>\n",
       "      <td>90</td>\n",
       "      <td>3.36</td>\n",
       "      <td>US</td>\n",
       "      <td>1603119268</td>\n",
       "    </tr>\n",
       "    <tr>\n",
       "      <th>129</th>\n",
       "      <td>North Bend</td>\n",
       "      <td>43.41</td>\n",
       "      <td>-124.22</td>\n",
       "      <td>57.99</td>\n",
       "      <td>100</td>\n",
       "      <td>75</td>\n",
       "      <td>3.36</td>\n",
       "      <td>US</td>\n",
       "      <td>1603119372</td>\n",
       "    </tr>\n",
       "    <tr>\n",
       "      <th>159</th>\n",
       "      <td>Lompoc</td>\n",
       "      <td>34.64</td>\n",
       "      <td>-120.46</td>\n",
       "      <td>53.60</td>\n",
       "      <td>100</td>\n",
       "      <td>90</td>\n",
       "      <td>4.94</td>\n",
       "      <td>US</td>\n",
       "      <td>1603119404</td>\n",
       "    </tr>\n",
       "    <tr>\n",
       "      <th>172</th>\n",
       "      <td>Nelson Bay</td>\n",
       "      <td>-32.72</td>\n",
       "      <td>152.15</td>\n",
       "      <td>60.01</td>\n",
       "      <td>100</td>\n",
       "      <td>90</td>\n",
       "      <td>5.41</td>\n",
       "      <td>AU</td>\n",
       "      <td>1603119248</td>\n",
       "    </tr>\n",
       "    <tr>\n",
       "      <th>202</th>\n",
       "      <td>Nikel</td>\n",
       "      <td>69.41</td>\n",
       "      <td>30.22</td>\n",
       "      <td>33.80</td>\n",
       "      <td>100</td>\n",
       "      <td>75</td>\n",
       "      <td>12.75</td>\n",
       "      <td>RU</td>\n",
       "      <td>1603119452</td>\n",
       "    </tr>\n",
       "    <tr>\n",
       "      <th>212</th>\n",
       "      <td>Qaqortoq</td>\n",
       "      <td>60.72</td>\n",
       "      <td>-46.03</td>\n",
       "      <td>35.60</td>\n",
       "      <td>100</td>\n",
       "      <td>90</td>\n",
       "      <td>1.12</td>\n",
       "      <td>GL</td>\n",
       "      <td>1603119462</td>\n",
       "    </tr>\n",
       "    <tr>\n",
       "      <th>282</th>\n",
       "      <td>Hasaki</td>\n",
       "      <td>35.73</td>\n",
       "      <td>140.83</td>\n",
       "      <td>54.00</td>\n",
       "      <td>100</td>\n",
       "      <td>75</td>\n",
       "      <td>2.24</td>\n",
       "      <td>JP</td>\n",
       "      <td>1603119537</td>\n",
       "    </tr>\n",
       "    <tr>\n",
       "      <th>366</th>\n",
       "      <td>Pacific Grove</td>\n",
       "      <td>36.62</td>\n",
       "      <td>-121.92</td>\n",
       "      <td>53.60</td>\n",
       "      <td>100</td>\n",
       "      <td>90</td>\n",
       "      <td>3.31</td>\n",
       "      <td>US</td>\n",
       "      <td>1603119374</td>\n",
       "    </tr>\n",
       "    <tr>\n",
       "      <th>389</th>\n",
       "      <td>Phek</td>\n",
       "      <td>25.67</td>\n",
       "      <td>94.50</td>\n",
       "      <td>57.43</td>\n",
       "      <td>100</td>\n",
       "      <td>42</td>\n",
       "      <td>2.42</td>\n",
       "      <td>IN</td>\n",
       "      <td>1603119662</td>\n",
       "    </tr>\n",
       "    <tr>\n",
       "      <th>400</th>\n",
       "      <td>Narsaq</td>\n",
       "      <td>60.92</td>\n",
       "      <td>-46.05</td>\n",
       "      <td>35.60</td>\n",
       "      <td>100</td>\n",
       "      <td>90</td>\n",
       "      <td>1.12</td>\n",
       "      <td>GL</td>\n",
       "      <td>1603119674</td>\n",
       "    </tr>\n",
       "  </tbody>\n",
       "</table>\n",
       "</div>"
      ],
      "text/plain": [
       "              City    Lat     Lng  Max Temp  Humidity  Cloudiness  Wind Speed  \\\n",
       "8             Kyle  30.00  -97.87     75.99       100          90        8.05   \n",
       "10         Ushuaia -54.80  -68.30     35.60       100          90       36.91   \n",
       "19         Bejucal  22.93  -82.39     77.00       100          75        4.70   \n",
       "34       Jamestown  42.10  -79.24     50.00       100          90        3.36   \n",
       "129     North Bend  43.41 -124.22     57.99       100          75        3.36   \n",
       "159         Lompoc  34.64 -120.46     53.60       100          90        4.94   \n",
       "172     Nelson Bay -32.72  152.15     60.01       100          90        5.41   \n",
       "202          Nikel  69.41   30.22     33.80       100          75       12.75   \n",
       "212       Qaqortoq  60.72  -46.03     35.60       100          90        1.12   \n",
       "282         Hasaki  35.73  140.83     54.00       100          75        2.24   \n",
       "366  Pacific Grove  36.62 -121.92     53.60       100          90        3.31   \n",
       "389           Phek  25.67   94.50     57.43       100          42        2.42   \n",
       "400         Narsaq  60.92  -46.05     35.60       100          90        1.12   \n",
       "\n",
       "    Country        Date  \n",
       "8        US  1603119240  \n",
       "10       AR  1603119068  \n",
       "19       CU  1603118802  \n",
       "34       US  1603119268  \n",
       "129      US  1603119372  \n",
       "159      US  1603119404  \n",
       "172      AU  1603119248  \n",
       "202      RU  1603119452  \n",
       "212      GL  1603119462  \n",
       "282      JP  1603119537  \n",
       "366      US  1603119374  \n",
       "389      IN  1603119662  \n",
       "400      GL  1603119674  "
      ]
     },
     "execution_count": 87,
     "metadata": {},
     "output_type": "execute_result"
    }
   ],
   "source": [
    "# Locate those cities in the df\n",
    "city_data.loc[city_data['Humidity'] == 100]"
   ]
  },
  {
   "cell_type": "code",
   "execution_count": 95,
   "metadata": {},
   "outputs": [
    {
     "data": {
      "text/plain": [
       "[8, 10, 19, 34, 129, 159, 172, 202, 212, 282, 366, 389, 400]"
      ]
     },
     "execution_count": 95,
     "metadata": {},
     "output_type": "execute_result"
    }
   ],
   "source": [
    "#  Get the indices of cities that have humidity over 100%.\n",
    "humidity100 = city_data.index[city_data['Humidity'] == 100].tolist()\n",
    "humidity100"
   ]
  },
  {
   "cell_type": "code",
   "execution_count": 97,
   "metadata": {},
   "outputs": [
    {
     "data": {
      "text/plain": [
       "533"
      ]
     },
     "execution_count": 97,
     "metadata": {},
     "output_type": "execute_result"
    }
   ],
   "source": [
    "# Make a new DataFrame equal to the city data to drop all humidity outliers by index.\n",
    "# Passing \"inplace=False\" will make a copy of the city_data DataFrame, which we call \"clean_city_data\".\n",
    "clean_city_data = city_data.drop(index=humidity100, inplace=False)\n",
    "len(clean_city_data)"
   ]
  },
  {
   "cell_type": "code",
   "execution_count": 100,
   "metadata": {},
   "outputs": [
    {
     "data": {
      "text/html": [
       "<div>\n",
       "<style scoped>\n",
       "    .dataframe tbody tr th:only-of-type {\n",
       "        vertical-align: middle;\n",
       "    }\n",
       "\n",
       "    .dataframe tbody tr th {\n",
       "        vertical-align: top;\n",
       "    }\n",
       "\n",
       "    .dataframe thead th {\n",
       "        text-align: right;\n",
       "    }\n",
       "</style>\n",
       "<table border=\"1\" class=\"dataframe\">\n",
       "  <thead>\n",
       "    <tr style=\"text-align: right;\">\n",
       "      <th></th>\n",
       "      <th>Lat</th>\n",
       "      <th>Lng</th>\n",
       "      <th>Max Temp</th>\n",
       "      <th>Humidity</th>\n",
       "      <th>Cloudiness</th>\n",
       "      <th>Wind Speed</th>\n",
       "      <th>Date</th>\n",
       "    </tr>\n",
       "  </thead>\n",
       "  <tbody>\n",
       "    <tr>\n",
       "      <th>count</th>\n",
       "      <td>533.000000</td>\n",
       "      <td>533.000000</td>\n",
       "      <td>533.000000</td>\n",
       "      <td>533.000000</td>\n",
       "      <td>533.000000</td>\n",
       "      <td>533.000000</td>\n",
       "      <td>5.330000e+02</td>\n",
       "    </tr>\n",
       "    <tr>\n",
       "      <th>mean</th>\n",
       "      <td>22.514784</td>\n",
       "      <td>20.219906</td>\n",
       "      <td>60.734822</td>\n",
       "      <td>70.275797</td>\n",
       "      <td>53.861163</td>\n",
       "      <td>8.382814</td>\n",
       "      <td>1.603119e+09</td>\n",
       "    </tr>\n",
       "    <tr>\n",
       "      <th>std</th>\n",
       "      <td>33.297309</td>\n",
       "      <td>88.788965</td>\n",
       "      <td>22.557528</td>\n",
       "      <td>21.410702</td>\n",
       "      <td>38.215498</td>\n",
       "      <td>5.842964</td>\n",
       "      <td>2.014486e+02</td>\n",
       "    </tr>\n",
       "    <tr>\n",
       "      <th>min</th>\n",
       "      <td>-53.150000</td>\n",
       "      <td>-179.170000</td>\n",
       "      <td>7.480000</td>\n",
       "      <td>7.000000</td>\n",
       "      <td>0.000000</td>\n",
       "      <td>0.290000</td>\n",
       "      <td>1.603119e+09</td>\n",
       "    </tr>\n",
       "    <tr>\n",
       "      <th>25%</th>\n",
       "      <td>-4.940000</td>\n",
       "      <td>-55.980000</td>\n",
       "      <td>42.800000</td>\n",
       "      <td>61.000000</td>\n",
       "      <td>16.000000</td>\n",
       "      <td>4.680000</td>\n",
       "      <td>1.603119e+09</td>\n",
       "    </tr>\n",
       "    <tr>\n",
       "      <th>50%</th>\n",
       "      <td>28.370000</td>\n",
       "      <td>27.210000</td>\n",
       "      <td>64.400000</td>\n",
       "      <td>75.000000</td>\n",
       "      <td>65.000000</td>\n",
       "      <td>6.980000</td>\n",
       "      <td>1.603119e+09</td>\n",
       "    </tr>\n",
       "    <tr>\n",
       "      <th>75%</th>\n",
       "      <td>50.460000</td>\n",
       "      <td>95.320000</td>\n",
       "      <td>79.360000</td>\n",
       "      <td>87.000000</td>\n",
       "      <td>90.000000</td>\n",
       "      <td>11.160000</td>\n",
       "      <td>1.603120e+09</td>\n",
       "    </tr>\n",
       "    <tr>\n",
       "      <th>max</th>\n",
       "      <td>78.220000</td>\n",
       "      <td>179.320000</td>\n",
       "      <td>107.600000</td>\n",
       "      <td>99.000000</td>\n",
       "      <td>100.000000</td>\n",
       "      <td>43.130000</td>\n",
       "      <td>1.603120e+09</td>\n",
       "    </tr>\n",
       "  </tbody>\n",
       "</table>\n",
       "</div>"
      ],
      "text/plain": [
       "              Lat         Lng    Max Temp    Humidity  Cloudiness  Wind Speed  \\\n",
       "count  533.000000  533.000000  533.000000  533.000000  533.000000  533.000000   \n",
       "mean    22.514784   20.219906   60.734822   70.275797   53.861163    8.382814   \n",
       "std     33.297309   88.788965   22.557528   21.410702   38.215498    5.842964   \n",
       "min    -53.150000 -179.170000    7.480000    7.000000    0.000000    0.290000   \n",
       "25%     -4.940000  -55.980000   42.800000   61.000000   16.000000    4.680000   \n",
       "50%     28.370000   27.210000   64.400000   75.000000   65.000000    6.980000   \n",
       "75%     50.460000   95.320000   79.360000   87.000000   90.000000   11.160000   \n",
       "max     78.220000  179.320000  107.600000   99.000000  100.000000   43.130000   \n",
       "\n",
       "               Date  \n",
       "count  5.330000e+02  \n",
       "mean   1.603119e+09  \n",
       "std    2.014486e+02  \n",
       "min    1.603119e+09  \n",
       "25%    1.603119e+09  \n",
       "50%    1.603119e+09  \n",
       "75%    1.603120e+09  \n",
       "max    1.603120e+09  "
      ]
     },
     "execution_count": 100,
     "metadata": {},
     "output_type": "execute_result"
    }
   ],
   "source": [
    "clean_city_data.describe()"
   ]
  },
  {
   "cell_type": "markdown",
   "metadata": {},
   "source": [
    "## Plotting the Data\n",
    "* Use proper labeling of the plots using plot titles (including date of analysis) and axes labels.\n",
    "* Save the plotted figures as .pngs."
   ]
  },
  {
   "cell_type": "markdown",
   "metadata": {},
   "source": [
    "## Latitude vs. Temperature Plot"
   ]
  },
  {
   "cell_type": "code",
   "execution_count": 111,
   "metadata": {
    "scrolled": true
   },
   "outputs": [
    {
     "data": {
      "image/png": "[encoded data removed]",
      "text/plain": [
       "<Figure size 432x288 with 1 Axes>"
      ]
     },
     "metadata": {
      "needs_background": "light"
     },
     "output_type": "display_data"
    }
   ],
   "source": [
    "# Latitude vs Temp\n",
    "plt.scatter(clean_city_data[\"Lat\"], clean_city_data[\"Max Temp\"], marker=\"o\", s=10)\n",
    "plt.title(\"City Latitude vs. Max Temperature\")\n",
    "plt.xlabel(\"Latitude\")\n",
    "plt.ylabel(\"Max Temperature (F)\")\n",
    "plt.grid(True)\n",
    "\n",
    "plt.savefig(\"Latitude_MaxTemp.png\")\n",
    "plt.show()"
   ]
  },
  {
   "cell_type": "markdown",
   "metadata": {},
   "source": [
    "### Analysis\n",
    "* Plot is showing the relationship between latitude of the cities and it's max temperature.\n",
    "* Based on the graph, max temperature is higher when the latitude is close to 0 or the equator."
   ]
  },
  {
   "cell_type": "markdown",
   "metadata": {},
   "source": [
    "## Latitude vs. Humidity Plot"
   ]
  },
  {
   "cell_type": "code",
   "execution_count": 112,
   "metadata": {
    "scrolled": true
   },
   "outputs": [
    {
     "data": {
      "image/png": "[encoded data removed]",
      "text/plain": [
       "<Figure size 432x288 with 1 Axes>"
      ]
     },
     "metadata": {
      "needs_background": "light"
     },
     "output_type": "display_data"
    }
   ],
   "source": [
    "# Latitude vs Humidity\n",
    "plt.scatter(clean_city_data[\"Lat\"], clean_city_data[\"Humidity\"], marker=\"o\", s=10)\n",
    "plt.title(\"City Latitude vs. Humidity\")\n",
    "plt.xlabel(\"Latitude\")\n",
    "plt.ylabel(\"Humidity (%)\")\n",
    "plt.grid(True)\n",
    "\n",
    "plt.savefig(\"Latitude_Humidity.png\")\n",
    "plt.show()"
   ]
  },
  {
   "cell_type": "markdown",
   "metadata": {},
   "source": [
    "### Analysis\n",
    "* Plot is showing the relationship between latitude of the cities and it's humidity.\n",
    "* Based on the graph, a very weak relationship may exist (higher humidity at latitudes above 40?)."
   ]
  },
  {
   "cell_type": "markdown",
   "metadata": {},
   "source": [
    "## Latitude vs. Cloudiness Plot"
   ]
  },
  {
   "cell_type": "code",
   "execution_count": 113,
   "metadata": {
    "scrolled": true
   },
   "outputs": [
    {
     "data": {
      "image/png": "[encoded data removed]",
      "text/plain": [
       "<Figure size 432x288 with 1 Axes>"
      ]
     },
     "metadata": {
      "needs_background": "light"
     },
     "output_type": "display_data"
    }
   ],
   "source": [
    "# Latitude vs Cloudiness\n",
    "plt.scatter(clean_city_data[\"Lat\"], clean_city_data[\"Cloudiness\"], marker=\"o\", s=10)\n",
    "plt.title(\"City Latitude vs. Cloudiness\")\n",
    "plt.xlabel(\"Latitude\")\n",
    "plt.ylabel(\"Cloudiness (%)\")\n",
    "plt.grid(True)\n",
    "\n",
    "plt.savefig(\"Latitude_Cloudiness.png\")\n",
    "plt.show()"
   ]
  },
  {
   "cell_type": "markdown",
   "metadata": {},
   "source": [
    "### Analysis\n",
    "* Plot is showing the relationship between latitude of the cities and it's cloudiness.\n",
    "* Based on the graph, the dots are all over the place showing no relationship whatsoever."
   ]
  },
  {
   "cell_type": "markdown",
   "metadata": {},
   "source": [
    "## Latitude vs. Wind Speed Plot"
   ]
  },
  {
   "cell_type": "code",
   "execution_count": 114,
   "metadata": {
    "scrolled": false
   },
   "outputs": [
    {
     "data": {
      "image/png": "[encoded data removed]",
      "text/plain": [
       "<Figure size 432x288 with 1 Axes>"
      ]
     },
     "metadata": {
      "needs_background": "light"
     },
     "output_type": "display_data"
    }
   ],
   "source": [
    "# Latitude vs Cloudiness\n",
    "plt.scatter(clean_city_data[\"Lat\"], clean_city_data[\"Wind Speed\"], marker=\"o\", s=10)\n",
    "plt.title(\"City Latitude vs. Wind Speed\")\n",
    "plt.xlabel(\"Latitude\")\n",
    "plt.ylabel(\"Wind Speed (mph)\")\n",
    "plt.grid(True)\n",
    "\n",
    "plt.savefig(\"Latitude_WindSpeed.png\")\n",
    "plt.show()"
   ]
  },
  {
   "cell_type": "markdown",
   "metadata": {},
   "source": [
    "### Analysis\n",
    "* Plot is showing the relationship between latitude of the cities and it's wind speed.\n",
    "* Based on the graph, not much of a relationship exists between the two variables."
   ]
  },
  {
   "cell_type": "markdown",
   "metadata": {},
   "source": [
    "## Linear Regression"
   ]
  },
  {
   "cell_type": "code",
   "execution_count": 119,
   "metadata": {},
   "outputs": [],
   "source": [
    "# Separate df by hemisphere\n",
    "north_city_data = clean_city_data.loc[clean_city_data['Lat'] >= 0]\n",
    "south_city_data = clean_city_data.loc[clean_city_data['Lat'] < 0]"
   ]
  },
  {
   "cell_type": "markdown",
   "metadata": {},
   "source": [
    "####  Northern Hemisphere - Max Temp vs. Latitude Linear Regression"
   ]
  },
  {
   "cell_type": "code",
   "execution_count": 141,
   "metadata": {},
   "outputs": [
    {
     "name": "stdout",
     "output_type": "stream",
     "text": [
      "LinregressResult(slope=-1.0508183360015395, intercept=97.89367096224973, rvalue=-0.8840498292618307, pvalue=6.183559979383005e-125, stderr=0.02880456469456149)\n"
     ]
    },
    {
     "data": {
      "image/png": "[encoded data removed]",
      "text/plain": [
       "<Figure size 432x288 with 1 Axes>"
      ]
     },
     "metadata": {
      "needs_background": "light"
     },
     "output_type": "display_data"
    }
   ],
   "source": [
    "# Northern Hemisphere - Max Temp vs. Latitude Linear Regression\n",
    "x_values = north_city_data[\"Lat\"]\n",
    "y_values = north_city_data[\"Max Temp\"]\n",
    "(slope, intercept, rvalue, pvalue, stderr) = linregress(x_values, y_values)\n",
    "regress_values = x_values * slope + intercept\n",
    "line_eq = \"y = \" + str(round(slope,2)) + \"x + \" + str(round(intercept,2))\n",
    "plt.scatter(x_values,y_values, marker=\"o\", s=10)\n",
    "plt.plot(x_values,regress_values,\"r-\")\n",
    "plt.annotate(line_eq,(6,10),fontsize=15,color=\"red\")\n",
    "plt.title('Northern Hemisphere - Max Temp vs. Latitude Linear Regression')\n",
    "plt.xlabel('Latitude')\n",
    "plt.ylabel('Max Temp')\n",
    "\n",
    "print(linregress(x_values, y_values))\n",
    "\n",
    "plt.savefig(\"N_MaxTemp_Latitude.png\")\n",
    "plt.show()"
   ]
  },
  {
   "cell_type": "markdown",
   "metadata": {},
   "source": [
    "####  Southern Hemisphere - Max Temp vs. Latitude Linear Regression"
   ]
  },
  {
   "cell_type": "code",
   "execution_count": 1,
   "metadata": {},
   "outputs": [
    {
     "ename": "NameError",
     "evalue": "name 'south_city_data' is not defined",
     "output_type": "error",
     "traceback": [
      "\u001b[1;31m---------------------------------------------------------------------------\u001b[0m",
      "\u001b[1;31mNameError\u001b[0m                                 Traceback (most recent call last)",
      "\u001b[1;32m<ipython-input-1-9b9a535a8585>\u001b[0m in \u001b[0;36m<module>\u001b[1;34m\u001b[0m\n\u001b[0;32m      1\u001b[0m \u001b[1;31m# Southern Hemisphere - Max Temp vs. Latitude Linear Regression\u001b[0m\u001b[1;33m\u001b[0m\u001b[1;33m\u001b[0m\u001b[1;33m\u001b[0m\u001b[0m\n\u001b[1;32m----> 2\u001b[1;33m \u001b[0mx_values\u001b[0m \u001b[1;33m=\u001b[0m \u001b[0msouth_city_data\u001b[0m\u001b[1;33m[\u001b[0m\u001b[1;34m\"Lat\"\u001b[0m\u001b[1;33m]\u001b[0m\u001b[1;33m\u001b[0m\u001b[1;33m\u001b[0m\u001b[0m\n\u001b[0m\u001b[0;32m      3\u001b[0m \u001b[0my_values\u001b[0m \u001b[1;33m=\u001b[0m \u001b[0msouth_city_data\u001b[0m\u001b[1;33m[\u001b[0m\u001b[1;34m\"Max Temp\"\u001b[0m\u001b[1;33m]\u001b[0m\u001b[1;33m\u001b[0m\u001b[1;33m\u001b[0m\u001b[0m\n\u001b[0;32m      4\u001b[0m \u001b[1;33m(\u001b[0m\u001b[0mslope\u001b[0m\u001b[1;33m,\u001b[0m \u001b[0mintercept\u001b[0m\u001b[1;33m,\u001b[0m \u001b[0mrvalue\u001b[0m\u001b[1;33m,\u001b[0m \u001b[0mpvalue\u001b[0m\u001b[1;33m,\u001b[0m \u001b[0mstderr\u001b[0m\u001b[1;33m)\u001b[0m \u001b[1;33m=\u001b[0m \u001b[0mlinregress\u001b[0m\u001b[1;33m(\u001b[0m\u001b[0mx_values\u001b[0m\u001b[1;33m,\u001b[0m \u001b[0my_values\u001b[0m\u001b[1;33m)\u001b[0m\u001b[1;33m\u001b[0m\u001b[1;33m\u001b[0m\u001b[0m\n\u001b[0;32m      5\u001b[0m \u001b[0mregress_values\u001b[0m \u001b[1;33m=\u001b[0m \u001b[0mx_values\u001b[0m \u001b[1;33m*\u001b[0m \u001b[0mslope\u001b[0m \u001b[1;33m+\u001b[0m \u001b[0mintercept\u001b[0m\u001b[1;33m\u001b[0m\u001b[1;33m\u001b[0m\u001b[0m\n",
      "\u001b[1;31mNameError\u001b[0m: name 'south_city_data' is not defined"
     ]
    }
   ],
   "source": [
    "# Southern Hemisphere - Max Temp vs. Latitude Linear Regression\n",
    "x_values = south_city_data[\"Lat\"]\n",
    "y_values = south_city_data[\"Max Temp\"]\n",
    "(slope, intercept, rvalue, pvalue, stderr) = linregress(x_values, y_values)\n",
    "regress_values = x_values * slope + intercept\n",
    "line_eq = \"y = \" + str(round(slope,2)) + \"x + \" + str(round(intercept,2))\n",
    "plt.scatter(x_values,y_values, marker=\"o\", s=10)\n",
    "plt.plot(x_values,regress_values,\"r-\")\n",
    "plt.annotate(line_eq,(6,10),fontsize=15,color=\"red\")\n",
    "plt.title('Southern Hemisphere - Max Temp vs. Latitude Linear Regression')\n",
    "plt.xlabel('Latitude')\n",
    "plt.ylabel('Max Temp')\n",
    "\n",
    "print(linregress(x_values, y_values))\n",
    "\n",
    "plt.savefig(\"S_MaxTemp_Latitude.png\")\n",
    "plt.show()"
   ]
  },
  {
   "cell_type": "markdown",
   "metadata": {},
   "source": [
    "### Analysis\n",
    "* There is a strong relationship with both showing a high rvalue between the latitude and max temperature of a city."
   ]
  },
  {
   "cell_type": "markdown",
   "metadata": {},
   "source": [
    "####  Northern Hemisphere - Humidity (%) vs. Latitude Linear Regression"
   ]
  },
  {
   "cell_type": "code",
   "execution_count": 147,
   "metadata": {},
   "outputs": [
    {
     "name": "stdout",
     "output_type": "stream",
     "text": [
      "LinregressResult(slope=0.37702751510971066, intercept=57.22878888991035, rvalue=0.3558023867833314, pvalue=1.3291629812358871e-12, stderr=0.05134527349428659)\n"
     ]
    },
    {
     "data": {
      "image/png": "[encoded data removed]",
      "text/plain": [
       "<Figure size 432x288 with 1 Axes>"
      ]
     },
     "metadata": {
      "needs_background": "light"
     },
     "output_type": "display_data"
    }
   ],
   "source": [
    "# Northern Hemisphere - Humidity (%) vs. Latitude Linear Regression\n",
    "x_values = north_city_data[\"Lat\"]\n",
    "y_values = north_city_data[\"Humidity\"]\n",
    "(slope, intercept, rvalue, pvalue, stderr) = linregress(x_values, y_values)\n",
    "regress_values = x_values * slope + intercept\n",
    "line_eq = \"y = \" + str(round(slope,2)) + \"x + \" + str(round(intercept,2))\n",
    "plt.scatter(x_values,y_values, marker=\"o\", s=10)\n",
    "plt.plot(x_values,regress_values,\"r-\")\n",
    "plt.annotate(line_eq,(6,10),fontsize=15,color=\"red\")\n",
    "plt.title('Northern Hemisphere - Humidity (%) vs. Latitude Linear Regression')\n",
    "plt.xlabel('Latitude')\n",
    "plt.ylabel('Humidity')\n",
    "\n",
    "print(linregress(x_values, y_values))\n",
    "\n",
    "plt.savefig(\"N_Humidity_Latitude.png\")\n",
    "plt.show()"
   ]
  },
  {
   "cell_type": "markdown",
   "metadata": {},
   "source": [
    "####  Southern Hemisphere - Humidity (%) vs. Latitude Linear Regression"
   ]
  },
  {
   "cell_type": "code",
   "execution_count": 150,
   "metadata": {
    "scrolled": true
   },
   "outputs": [
    {
     "name": "stdout",
     "output_type": "stream",
     "text": [
      "LinregressResult(slope=-0.06857308254398804, intercept=63.411248171158185, rvalue=-0.04231914674910373, pvalue=0.5963538597423996, stderr=0.12920451905517136)\n"
     ]
    },
    {
     "data": {
      "image/png": "[encoded data removed]",
      "text/plain": [
       "<Figure size 432x288 with 1 Axes>"
      ]
     },
     "metadata": {
      "needs_background": "light"
     },
     "output_type": "display_data"
    }
   ],
   "source": [
    "# Southern Hemisphere - Humidity (%) vs. Latitude Linear Regression\n",
    "x_values = south_city_data[\"Lat\"]\n",
    "y_values = south_city_data[\"Humidity\"]\n",
    "(slope, intercept, rvalue, pvalue, stderr) = linregress(x_values, y_values)\n",
    "regress_values = x_values * slope + intercept\n",
    "line_eq = \"y = \" + str(round(slope,2)) + \"x + \" + str(round(intercept,2))\n",
    "plt.scatter(x_values,y_values, marker=\"o\", s=10)\n",
    "plt.plot(x_values,regress_values,\"r-\")\n",
    "plt.annotate(line_eq,(6,10),fontsize=15,color=\"red\")\n",
    "plt.title('Southern Hemisphere - Humidity (%) vs. Latitude Linear Regression')\n",
    "plt.xlabel('Latitude')\n",
    "plt.ylabel('Humidity')\n",
    "\n",
    "print(linregress(x_values, y_values))\n",
    "\n",
    "plt.savefig(\"S_Humidity_Latitude.png\")\n",
    "plt.show()"
   ]
  },
  {
   "cell_type": "markdown",
   "metadata": {},
   "source": [
    "### Analysis\n",
    "* Weak to no relationship between the latitude and humidity of a city."
   ]
  },
  {
   "cell_type": "markdown",
   "metadata": {},
   "source": [
    "####  Northern Hemisphere - Cloudiness (%) vs. Latitude Linear Regression"
   ]
  },
  {
   "cell_type": "code",
   "execution_count": 156,
   "metadata": {},
   "outputs": [
    {
     "name": "stdout",
     "output_type": "stream",
     "text": [
      "LinregressResult(slope=0.5464241755611374, intercept=35.15460854007618, rvalue=0.2773744030212012, pvalue=4.936441651775131e-08, stderr=0.09813136285294978)\n"
     ]
    },
    {
     "data": {
      "image/png": "[encoded data removed]",
      "text/plain": [
       "<Figure size 432x288 with 1 Axes>"
      ]
     },
     "metadata": {
      "needs_background": "light"
     },
     "output_type": "display_data"
    }
   ],
   "source": [
    "# Northern Hemisphere - Cloudiness (%) vs. Latitude Linear Regression\n",
    "x_values = north_city_data[\"Lat\"]\n",
    "y_values = north_city_data[\"Cloudiness\"]\n",
    "(slope, intercept, rvalue, pvalue, stderr) = linregress(x_values, y_values)\n",
    "regress_values = x_values * slope + intercept\n",
    "line_eq = \"y = \" + str(round(slope,2)) + \"x + \" + str(round(intercept,2))\n",
    "plt.scatter(x_values,y_values, marker=\"o\", s=10)\n",
    "plt.plot(x_values,regress_values,\"r-\")\n",
    "plt.annotate(line_eq,(6,10),fontsize=15,color=\"red\")\n",
    "plt.title('Northern Hemisphere - Cloudiness (%) vs. Latitude Linear Regression')\n",
    "plt.xlabel('Latitude')\n",
    "plt.ylabel('Cloudiness')\n",
    "\n",
    "print(linregress(x_values, y_values))\n",
    "\n",
    "plt.savefig(\"N_Cloudiness_Latitude.png\")\n",
    "plt.show()"
   ]
  },
  {
   "cell_type": "markdown",
   "metadata": {},
   "source": [
    "####  Southern Hemisphere - Cloudiness (%) vs. Latitude Linear Regression"
   ]
  },
  {
   "cell_type": "code",
   "execution_count": 152,
   "metadata": {
    "scrolled": true
   },
   "outputs": [
    {
     "name": "stdout",
     "output_type": "stream",
     "text": [
      "LinregressResult(slope=0.19133486131305275, intercept=49.37193719292463, rvalue=0.07198279648529553, pvalue=0.3672283668125089, stderr=0.21158627190551876)\n"
     ]
    },
    {
     "data": {
      "image/png": "[encoded data removed]",
      "text/plain": [
       "<Figure size 432x288 with 1 Axes>"
      ]
     },
     "metadata": {
      "needs_background": "light"
     },
     "output_type": "display_data"
    }
   ],
   "source": [
    "# Southern Hemisphere - Cloudiness (%) vs. Latitude Linear Regression\n",
    "x_values = south_city_data[\"Lat\"]\n",
    "y_values = south_city_data[\"Cloudiness\"]\n",
    "(slope, intercept, rvalue, pvalue, stderr) = linregress(x_values, y_values)\n",
    "regress_values = x_values * slope + intercept\n",
    "line_eq = \"y = \" + str(round(slope,2)) + \"x + \" + str(round(intercept,2))\n",
    "plt.scatter(x_values,y_values, marker=\"o\", s=10)\n",
    "plt.plot(x_values,regress_values,\"r-\")\n",
    "plt.annotate(line_eq,(6,10),fontsize=15,color=\"red\")\n",
    "plt.title('Southern Hemisphere - Cloudiness (%) vs. Latitude Linear Regression')\n",
    "plt.xlabel('Latitude')\n",
    "plt.ylabel('Cloudiness')\n",
    "\n",
    "print(linregress(x_values, y_values))\n",
    "\n",
    "plt.savefig(\"S_Cloudiness_Latitude.png\")\n",
    "plt.show()"
   ]
  },
  {
   "cell_type": "markdown",
   "metadata": {},
   "source": [
    "### Analysis\n",
    "* Weak relationship for cities in the nothern hemisphere, which could have other attributing factors.\n",
    "* No relationship for cities in the southern hemisphere."
   ]
  },
  {
   "cell_type": "markdown",
   "metadata": {},
   "source": [
    "####  Northern Hemisphere - Wind Speed (mph) vs. Latitude Linear Regression"
   ]
  },
  {
   "cell_type": "code",
   "execution_count": 157,
   "metadata": {},
   "outputs": [
    {
     "name": "stdout",
     "output_type": "stream",
     "text": [
      "LinregressResult(slope=0.04389300142152436, intercept=6.086940367289882, rvalue=0.1560285863550816, pvalue=0.0024789293195394547, stderr=0.01440680873648474)\n"
     ]
    },
    {
     "data": {
      "image/png": "[encoded data removed]",
      "text/plain": [
       "<Figure size 432x288 with 1 Axes>"
      ]
     },
     "metadata": {
      "needs_background": "light"
     },
     "output_type": "display_data"
    }
   ],
   "source": [
    "# Northern Hemisphere - Wind Speed (mph) vs. Latitude Linear Regression\n",
    "x_values = north_city_data[\"Lat\"]\n",
    "y_values = north_city_data[\"Wind Speed\"]\n",
    "(slope, intercept, rvalue, pvalue, stderr) = linregress(x_values, y_values)\n",
    "regress_values = x_values * slope + intercept\n",
    "line_eq = \"y = \" + str(round(slope,2)) + \"x + \" + str(round(intercept,2))\n",
    "plt.scatter(x_values,y_values, marker=\"o\", s=10)\n",
    "plt.plot(x_values,regress_values,\"r-\")\n",
    "plt.annotate(line_eq,(6,10),fontsize=15,color=\"red\")\n",
    "plt.title('Northern Hemisphere - Wind Speed (mph) vs. Latitude Linear Regression')\n",
    "plt.xlabel('Latitude')\n",
    "plt.ylabel('Wind Speed')\n",
    "\n",
    "print(linregress(x_values, y_values))\n",
    "\n",
    "plt.savefig(\"N_WindSpeed_Latitude.png\")\n",
    "plt.show()"
   ]
  },
  {
   "cell_type": "markdown",
   "metadata": {},
   "source": [
    "####  Southern Hemisphere - Wind Speed (mph) vs. Latitude Linear Regression"
   ]
  },
  {
   "cell_type": "code",
   "execution_count": 158,
   "metadata": {
    "scrolled": true
   },
   "outputs": [
    {
     "name": "stdout",
     "output_type": "stream",
     "text": [
      "LinregressResult(slope=-0.08019249704441977, intercept=7.936904963174959, rvalue=-0.16950081880974596, pvalue=0.032684267581319815, stderr=0.03721191150824064)\n"
     ]
    },
    {
     "data": {
      "image/png": "[encoded data removed]",
      "text/plain": [
       "<Figure size 432x288 with 1 Axes>"
      ]
     },
     "metadata": {
      "needs_background": "light"
     },
     "output_type": "display_data"
    }
   ],
   "source": [
    "# Southern Hemisphere - Wind Speed (mph) vs. Latitude Linear Regression\n",
    "x_values = south_city_data[\"Lat\"]\n",
    "y_values = south_city_data[\"Wind Speed\"]\n",
    "(slope, intercept, rvalue, pvalue, stderr) = linregress(x_values, y_values)\n",
    "regress_values = x_values * slope + intercept\n",
    "line_eq = \"y = \" + str(round(slope,2)) + \"x + \" + str(round(intercept,2))\n",
    "plt.scatter(x_values,y_values, marker=\"o\", s=10)\n",
    "plt.plot(x_values,regress_values,\"r-\")\n",
    "plt.annotate(line_eq,(6,10),fontsize=15,color=\"red\")\n",
    "plt.title('Southern Hemisphere - Wind Speed (mph) vs. Latitude Linear Regression')\n",
    "plt.xlabel('Latitude')\n",
    "plt.ylabel('Wind Speed')\n",
    "\n",
    "print(linregress(x_values, y_values))\n",
    "\n",
    "plt.savefig(\"S_WindSpeed_Latitude.png\")\n",
    "plt.show()"
   ]
  },
  {
   "cell_type": "markdown",
   "metadata": {},
   "source": [
    "### Analysis\n",
    "* Based on the plot, latitude does not affect the wind speed of a city."
   ]
  },
  {
   "cell_type": "code",
   "execution_count": null,
   "metadata": {},
   "outputs": [],
   "source": []
  }
 ],
 "metadata": {
  "kernelspec": {
   "display_name": "Python [conda env:pythondata] *",
   "language": "python",
   "name": "conda-env-pythondata-py"
  },
  "language_info": {
   "codemirror_mode": {
    "name": "ipython",
    "version": 3
   },
   "file_extension": ".py",
   "mimetype": "text/x-python",
   "name": "python",
   "nbconvert_exporter": "python",
   "pygments_lexer": "ipython3",
   "version": "3.6.10"
  }
 },
 "nbformat": 4,
 "nbformat_minor": 4
}
