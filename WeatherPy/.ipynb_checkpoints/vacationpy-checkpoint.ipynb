{
 "cells": [
  {
   "cell_type": "markdown",
   "metadata": {},
   "source": [
    "# VacationPy\n",
    "----\n",
    "\n",
    "#### Note\n",
    "* Keep an eye on your API usage. Use https://developers.google.com/maps/reporting/gmp-reporting as reference for how to monitor your usage and billing.\n",
    "\n",
    "* Instructions have been included for each segment. You do not have to follow them exactly, but they are included to help you think through the steps."
   ]
  },
  {
   "cell_type": "code",
   "execution_count": null,
   "metadata": {},
   "outputs": [],
   "source": [
    "# Dependencies and Setup\n",
    "import matplotlib.pyplot as plt\n",
    "import pandas as pd\n",
    "import numpy as np\n",
    "import requests\n",
    "import gmaps\n",
    "import os\n",
    "\n",
    "# Import API key\n",
    "from api_keys import g_key"
   ]
  },
  {
   "cell_type": "markdown",
   "metadata": {},
   "source": [
    "### Store Part I results into DataFrame\n",
    "* Load the csv exported in Part I to a DataFrame"
   ]
  },
  {
   "cell_type": "code",
   "execution_count": null,
   "metadata": {},
   "outputs": [],
   "source": [
    "# Pull csv from Part I\n",
    "city_data = pd.read_csv('city_data.csv')\n",
    "city_data.head()"
   ]
  },
  {
   "cell_type": "markdown",
   "metadata": {},
   "source": [
    "### Humidity Heatmap\n",
    "* Configure gmaps.\n",
    "* Use the Lat and Lng as locations and Humidity as the weight.\n",
    "* Add Heatmap layer to map."
   ]
  },
  {
   "cell_type": "code",
   "execution_count": null,
   "metadata": {},
   "outputs": [],
   "source": [
    "# Configure gmaps\n",
    "gmaps.configure(api_key=g_key)\n",
    "\n",
    "# Store latitude and longitude in locations\n",
    "locations = city_data[['Lat', 'Lng']]\n",
    "\n",
    "# Fill NaN values and convert to float\n",
    "humidity = city_data['Humidity'].astype(float)"
   ]
  },
  {
   "cell_type": "code",
   "execution_count": null,
   "metadata": {},
   "outputs": [],
   "source": [
    "# Plot Heatmap\n",
    "fig = gmaps.figure()\n",
    "\n",
    "# Create heat layer\n",
    "heat_layer = gmaps.heatmap_layer(locations, weights=humidity, \n",
    "                                 dissipating=False, max_intensity=100,\n",
    "                                 point_radius=5)\n",
    "\n",
    "# Add layer\n",
    "fig.add_layer(heat_layer)\n",
    "\n",
    "# Display figure\n",
    "fig"
   ]
  },
  {
   "cell_type": "markdown",
   "metadata": {},
   "source": [
    "### Create new DataFrame fitting weather criteria\n",
    "* Narrow down the cities to fit weather conditions.\n",
    "* Drop any rows will null values."
   ]
  },
  {
   "cell_type": "code",
   "execution_count": null,
   "metadata": {
    "scrolled": true
   },
   "outputs": [],
   "source": [
    "# Drop cities where:\n",
    "# Max Temp is lower than 70\n",
    "# Max Temp is greater than 80\n",
    "# Wind speed is over 10mph\n",
    "# Cloudiness is greater than 0\n",
    "\n",
    "unfit_city = city_data[(city_data['Max Temp'] < 70) |\n",
    "                      (city_data['Max Temp'] > 80) |\n",
    "                      (city_data['Wind Speed'] > 10) |\n",
    "                      (city_data['Cloudiness'] > 0)].index\n",
    "\n",
    "city_data.drop(unfit_city, inplace=True)\n",
    "\n",
    "city_data"
   ]
  },
  {
   "cell_type": "markdown",
   "metadata": {},
   "source": [
    "### Hotel Map\n",
    "* Store into variable named `hotel_df`.\n",
    "* Add a \"Hotel Name\" column to the DataFrame.\n",
    "* Set parameters to search for hotels with 5000 meters.\n",
    "* Hit the Google Places API for each city's coordinates.\n",
    "* Store the first Hotel result into the DataFrame.\n",
    "* Plot markers on top of the heatmap."
   ]
  },
  {
   "cell_type": "code",
   "execution_count": null,
   "metadata": {
    "scrolled": true
   },
   "outputs": [],
   "source": [
    "# Drop column 'Unnamed: 0'\n",
    "hotel_df = city_data.drop('Unnamed: 0', axis=1)\n",
    "\n",
    "# Add column 'Hotel Name'\n",
    "hotel_df['Hotel Name'] = ''\n",
    "\n",
    "hotel_df"
   ]
  },
  {
   "cell_type": "code",
   "execution_count": null,
   "metadata": {},
   "outputs": [],
   "source": [
    "base_url = \"https://maps.googleapis.com/maps/api/place/nearbysearch/json\"\n",
    "params = {\n",
    "    \"keyword\": \"hotel\",\n",
    "    \"type\": \"lodging\",\n",
    "    \"radius\": 5000,\n",
    "    \"key\": g_key\n",
    "}"
   ]
  },
  {
   "cell_type": "code",
   "execution_count": null,
   "metadata": {},
   "outputs": [],
   "source": [
    "# use iterrows to iterate through pandas dataframe\n",
    "for index, row in hotel_df.iterrows():\n",
    "\n",
    "    # get coordinates from df\n",
    "    lat = row['Lat']\n",
    "    lng = row['Lng']\n",
    "    \n",
    "    city = row['City']\n",
    "    \n",
    "    # change location each iteration while leaving original params in place\n",
    "    params[\"location\"] = f\"{lat},{lng}\"\n",
    "\n",
    "    # assemble url and make API request\n",
    "    print(f\"Retrieving Results for Index {index}: {city}.\")\n",
    "    response = requests.get(base_url, params=params).json()\n",
    "    \n",
    "    # extract results\n",
    "    results = response['results']\n",
    "    \n",
    "    try:\n",
    "        print(f\"Closest hotel is {results[0]['name']}.\")\n",
    "        \n",
    "        hotel_df.loc[index, 'Hotel Name'] = results[0]['name']\n",
    "             \n",
    "    except (KeyError, IndexError):\n",
    "        print(\"Can't find result... skipping.\")\n",
    "        \n",
    "    print(\"------------\")"
   ]
  },
  {
   "cell_type": "code",
   "execution_count": null,
   "metadata": {},
   "outputs": [],
   "source": [
    "hotel_df"
   ]
  },
  {
   "cell_type": "code",
   "execution_count": null,
   "metadata": {},
   "outputs": [],
   "source": [
    "# NOTE: Do not change any of the code in this cell\n",
    "\n",
    "# Using the template add the hotel marks to the heatmap\n",
    "info_box_template = \"\"\"\n",
    "<dl>\n",
    "<dt>Name</dt><dd>{Hotel Name}</dd>\n",
    "<dt>City</dt><dd>{City}</dd>\n",
    "<dt>Country</dt><dd>{Country}</dd>\n",
    "</dl>\n",
    "\"\"\"\n",
    "# Store the DataFrame Row\n",
    "# NOTE: be sure to update with your DataFrame name\n",
    "hotel_info = [info_box_template.format(**row) for index, row in hotel_df.iterrows()]\n",
    "locations = hotel_df[[\"Lat\", \"Lng\"]]"
   ]
  },
  {
   "cell_type": "code",
   "execution_count": 26,
   "metadata": {},
   "outputs": [
    {
     "data": {
      "application/vnd.jupyter.widget-view+json": {
       "model_id": "db299ae99599441abf31fa6b64b60d11",
       "version_major": 2,
       "version_minor": 0
      },
      "text/plain": [
       "Figure(layout=FigureLayout(height='420px'))"
      ]
     },
     "metadata": {},
     "output_type": "display_data"
    }
   ],
   "source": [
    "# Add marker layer ontop of heat map\n",
    "markers = gmaps.marker_layer(locations,\n",
    "    info_box_content=hotel_info)\n",
    "fig.add_layer(markers)\n",
    "\n",
    "# Display figure\n",
    "fig"
   ]
  },
  {
   "cell_type": "code",
   "execution_count": null,
   "metadata": {},
   "outputs": [],
   "source": []
  },
  {
   "cell_type": "code",
   "execution_count": null,
   "metadata": {},
   "outputs": [],
   "source": []
  }
 ],
 "metadata": {
  "kernelspec": {
   "display_name": "Python [conda env:pythondata] *",
   "language": "python",
   "name": "conda-env-pythondata-py"
  },
  "language_info": {
   "codemirror_mode": {
    "name": "ipython",
    "version": 3
   },
   "file_extension": ".py",
   "mimetype": "text/x-python",
   "name": "python",
   "nbconvert_exporter": "python",
   "pygments_lexer": "ipython3",
   "version": "3.6.10"
  }
 },
 "nbformat": 4,
 "nbformat_minor": 4
}
